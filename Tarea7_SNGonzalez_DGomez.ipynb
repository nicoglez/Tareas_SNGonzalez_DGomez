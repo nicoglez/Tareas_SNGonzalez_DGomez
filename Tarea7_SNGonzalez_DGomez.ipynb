{
 "cells": [
  {
   "cell_type": "markdown",
   "metadata": {},
   "source": [
    "<img style=\"float: left; margin: 30px 15px 15px 15px;\" src=\"https://pngimage.net/wp-content/uploads/2018/06/logo-iteso-png-5.png\" width=\"300\" height=\"500\" /> \n",
    "    \n",
    "    \n",
    "### <font color='navy'> Simulación de procesos financieros. \n",
    "\n",
    "**Nombres:** Sean Nicolás González Vázquez y Doris Gomez Contreras.\n",
    "\n",
    "**Fecha:** 15 de octubre del 2020.\n",
    "\n",
    "**Expediente** : 720083, 713897.\n",
    "**Profesor:** Oscar David Jaramillo Zuluaga.\n",
    "\n",
    "# Tarea 7. Metodos de Reduccion de Varianza"
   ]
  },
  {
   "cell_type": "markdown",
   "metadata": {},
   "source": [
    "## Enunciado de tarea \n",
    "\n",
    "> **Ejercicio 1.** Aproxime el valor de la siguiente integral usando el método monte carlo crudo y método de reducción de varianza de muestreo estratíficado\n",
    ">$$I=\\int_{0}^{1}x^2\\text{d}x=\\left.\\frac{x^3}{3}\\right|_{x=0}^{x=1}=\\frac{1}{3}\\approx 0.33333$$\n",
    ">Pasos\n",
    ">1. Cree una función que realice el método de muestreo estratíficado, recibiendo como único parámetro de entrada la cantidad de estratos y retornando las variables estratíficadas correspondientes.\n",
    ">2. Reporte los resultados de la aproximación de la integral usando montecarlo crudo y muestreo estratíficado, en un Dataframe \n",
    "\n",
    "> **Ejercicio 2**\n",
    "\n",
    "<img style=\"float: left; margin: 30px 15px 15px 15px;\" src= 'https://lh3.googleusercontent.com/m2iE8srueLQktUOrVHnouqbkk-uMEM7yYnPw_REAfwcrfJGoti4QC_mPcMUwyS7n6tJbRR5ZqSSlWOBl7GTBDdxFspGl0gXzxv-1BfiT-FwuCZphqBrvLLNnep_9MLOrjFAPUfUoP9Utb5ShvI3ytuVZckPjOHz5fq2HBOhJibXNs8NQBeGYbOr7qUmM_0xK_bhET0GQO2XIXZKCavpINeKelTqleGUPIQ5iNLHuUP15afLCLF4qO4UHx7IV7Z-U7t4SNBu-4uA2re5DgaUwgX5Oxkl72_TAyOUAgMmQ8UBpc-lEsASi4ePqLo93yCwIQBKaGAvVFeXoRl7c9gXi4KSfoKKgXOpguhEl0NpbBoKJDsD__-A1QP-KDCFgqqC20BadZjoY09z81cL2Z7asjeFl-fPVYpN_mhv5J0rEgfbFmOi6GGQVbcJesVns3CihbPEBLV0rm6TsAbI5b_3aqgdoyYktYHnM5La_I6SmoQ6KtafTxi4Gj_CnR36ZhK4izg1qba2H6kSqIowmiiLmHpfLN937dlKvWl2amijSo_jyt8PGPdzIegndaeIdd3Gq4e8lzkfgM9X3rtoSZNmJb_EExI1X-jk4O76m1MXG_UMhF5HUp2sV0cYPw6UnHyStxs1-g0nWqR2gPgi08IGKKNqU4v8vJrfic6e75ohfgFr90DSiaO-6AvMZaFbD=w649-h545-no?authuser=0' width=\"400\" height=\"500\" /> \n",
    "  \n",
    "   \n",
    "Además use el método de estratificación donde se divide en B estratos, visto la clase pasada y compare el resultado con los métodos anteriores cuando se toman $2,4,6,10$ estratos respectivamente, concluya."
   ]
  },
  {
   "cell_type": "markdown",
   "metadata": {},
   "source": [
    "# Solucion de los Ejercicios"
   ]
  },
  {
   "cell_type": "markdown",
   "metadata": {},
   "source": [
    "> **Ejercicio 1.** Aproxime el valor de la siguiente integral usando el método monte carlo crudo y método de reducción de varianza de muestreo estratíficado\n",
    ">$$I=\\int_{0}^{1}x^2\\text{d}x=\\left.\\frac{x^3}{3}\\right|_{x=0}^{x=1}=\\frac{1}{3}\\approx 0.33333$$\n",
    ">Pasos\n",
    ">1. Cree una función que realice el método de muestreo estratíficado, recibiendo como único parámetro de entrada la cantidad de estratos y retornando las variables estratíficadas correspondientes.\n",
    ">2. Reporte los resultados de la aproximación de la integral usando montecarlo crudo y muestreo estratíficado, en un Dataframe \n"
   ]
  },
  {
   "cell_type": "markdown",
   "metadata": {},
   "source": [
    "### Solucion Nicolas"
   ]
  },
  {
   "cell_type": "code",
   "execution_count": null,
   "metadata": {},
   "outputs": [],
   "source": []
  },
  {
   "cell_type": "code",
   "execution_count": null,
   "metadata": {},
   "outputs": [],
   "source": []
  },
  {
   "cell_type": "code",
   "execution_count": null,
   "metadata": {},
   "outputs": [],
   "source": []
  },
  {
   "cell_type": "code",
   "execution_count": null,
   "metadata": {},
   "outputs": [],
   "source": []
  },
  {
   "cell_type": "markdown",
   "metadata": {},
   "source": [
    "### Solucion Doris"
   ]
  },
  {
   "cell_type": "code",
   "execution_count": null,
   "metadata": {},
   "outputs": [],
   "source": []
  },
  {
   "cell_type": "code",
   "execution_count": null,
   "metadata": {},
   "outputs": [],
   "source": []
  },
  {
   "cell_type": "code",
   "execution_count": null,
   "metadata": {},
   "outputs": [],
   "source": []
  },
  {
   "cell_type": "code",
   "execution_count": null,
   "metadata": {},
   "outputs": [],
   "source": []
  },
  {
   "cell_type": "markdown",
   "metadata": {},
   "source": [
    "> **Ejercicio 2**\n",
    "\n",
    "<img style=\"float: left; margin: 30px 15px 15px 15px;\" src= 'https://lh3.googleusercontent.com/m2iE8srueLQktUOrVHnouqbkk-uMEM7yYnPw_REAfwcrfJGoti4QC_mPcMUwyS7n6tJbRR5ZqSSlWOBl7GTBDdxFspGl0gXzxv-1BfiT-FwuCZphqBrvLLNnep_9MLOrjFAPUfUoP9Utb5ShvI3ytuVZckPjOHz5fq2HBOhJibXNs8NQBeGYbOr7qUmM_0xK_bhET0GQO2XIXZKCavpINeKelTqleGUPIQ5iNLHuUP15afLCLF4qO4UHx7IV7Z-U7t4SNBu-4uA2re5DgaUwgX5Oxkl72_TAyOUAgMmQ8UBpc-lEsASi4ePqLo93yCwIQBKaGAvVFeXoRl7c9gXi4KSfoKKgXOpguhEl0NpbBoKJDsD__-A1QP-KDCFgqqC20BadZjoY09z81cL2Z7asjeFl-fPVYpN_mhv5J0rEgfbFmOi6GGQVbcJesVns3CihbPEBLV0rm6TsAbI5b_3aqgdoyYktYHnM5La_I6SmoQ6KtafTxi4Gj_CnR36ZhK4izg1qba2H6kSqIowmiiLmHpfLN937dlKvWl2amijSo_jyt8PGPdzIegndaeIdd3Gq4e8lzkfgM9X3rtoSZNmJb_EExI1X-jk4O76m1MXG_UMhF5HUp2sV0cYPw6UnHyStxs1-g0nWqR2gPgi08IGKKNqU4v8vJrfic6e75ohfgFr90DSiaO-6AvMZaFbD=w649-h545-no?authuser=0' width=\"400\" height=\"500\" /> \n",
    "  \n",
    "   \n",
    "Además use el método de estratificación donde se divide en B estratos, visto la clase pasada y compare el resultado con los métodos anteriores cuando se toman $2,4,6,10$ estratos respectivamente, concluya."
   ]
  },
  {
   "cell_type": "markdown",
   "metadata": {},
   "source": [
    "### Solucion Nicolas"
   ]
  },
  {
   "cell_type": "code",
   "execution_count": null,
   "metadata": {},
   "outputs": [],
   "source": []
  },
  {
   "cell_type": "code",
   "execution_count": null,
   "metadata": {},
   "outputs": [],
   "source": []
  },
  {
   "cell_type": "code",
   "execution_count": null,
   "metadata": {},
   "outputs": [],
   "source": []
  },
  {
   "cell_type": "code",
   "execution_count": null,
   "metadata": {},
   "outputs": [],
   "source": []
  },
  {
   "cell_type": "markdown",
   "metadata": {},
   "source": [
    "### Solucion Doris"
   ]
  },
  {
   "cell_type": "code",
   "execution_count": null,
   "metadata": {},
   "outputs": [],
   "source": []
  },
  {
   "cell_type": "code",
   "execution_count": null,
   "metadata": {},
   "outputs": [],
   "source": []
  },
  {
   "cell_type": "code",
   "execution_count": null,
   "metadata": {},
   "outputs": [],
   "source": []
  },
  {
   "cell_type": "code",
   "execution_count": null,
   "metadata": {},
   "outputs": [],
   "source": []
  },
  {
   "cell_type": "markdown",
   "metadata": {},
   "source": [
    "### Respuesta planteada en el ejercicio usando (markdown)\n",
    " La respuesta es ........."
   ]
  }
 ],
 "metadata": {
  "kernelspec": {
   "display_name": "Python 3",
   "language": "python",
   "name": "python3"
  },
  "language_info": {
   "codemirror_mode": {
    "name": "ipython",
    "version": 3
   },
   "file_extension": ".py",
   "mimetype": "text/x-python",
   "name": "python",
   "nbconvert_exporter": "python",
   "pygments_lexer": "ipython3",
   "version": "3.8.3"
  }
 },
 "nbformat": 4,
 "nbformat_minor": 2
}
