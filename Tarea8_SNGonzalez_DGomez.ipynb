{
 "cells": [
  {
   "cell_type": "markdown",
   "metadata": {},
   "source": [
    "<img style=\"float: left; margin: 30px 15px 15px 15px;\" src=\"https://pngimage.net/wp-content/uploads/2018/06/logo-iteso-png-5.png\" width=\"300\" height=\"500\" /> \n",
    "    \n",
    "    \n",
    "### <font color='navy'> Simulación de procesos financieros. \n",
    "\n",
    "**Nombres:** Sean Nicolás González Vázquez y Doris Gomez Contreras.\n",
    "\n",
    "**Fecha:** 15 de octubre del 2020.\n",
    "\n",
    "**Expediente** : 720083, 713897.\n",
    "**Profesor:** Oscar David Jaramillo Zuluaga.\n",
    "\n",
    "# Tarea 8."
   ]
  },
  {
   "cell_type": "markdown",
   "metadata": {},
   "source": [
    "## Enunciado de tarea \n",
    "\n",
    "> **Ejercicio.**   \n",
    "\n",
    "\n",
    "Considerar la funcion de distribucion de probabilidad cuya funcion de densidad es:\n",
    "    \n",
    "$$f(x)=\\begin{cases}\\frac{1}{x^2}, 1 \\leq x \\\\ 0, otherwise\\end{cases}$$ \n",
    "  \n",
    "El problema es hacer un experimento simulado, con la ayuda de tecnicas de reduccion de varianza, para estimar la medida de la distribucion, para proveer una comparacion estandar, deriva la media analiticamente.\n",
    "Para cada uno de los casos, obten 10 numeros aleatorios, para generar variables aleatorias y calcular una media estimada\n",
    "- a) Usa Montecarlo crudo\n",
    "- b) Usa Muestreo estratificado de 0 <= F(x) <= 0.6, 0.6 <= F(x) <= 0.9 y 0.9 <= F(x) <= 1, con 3,3 y 4 variables aleatorias cada una.\n",
    "- c) Usa el metodo igualmente espaciado\n",
    "- d) usar numeros complementarios"
   ]
  },
  {
   "cell_type": "markdown",
   "metadata": {},
   "source": [
    "# Solucion de los Ejercicios"
   ]
  },
  {
   "cell_type": "markdown",
   "metadata": {},
   "source": [
    "\n",
    "> **Ejercicio.**   \n",
    "\n",
    "\n",
    "Considerar la funcion de distribucion de probabilidad cuya funcion de densidad es:\n",
    "    \n",
    "$$f(x)=\\begin{cases}\\frac{1}{x^2}, 1 \\leq x \\\\ 0, otherwise\\end{cases}$$ \n",
    "  \n",
    "El problema es hacer un experimento simulado, con la ayuda de tecnicas de reduccion de varianza, para estimar la medida de la distribucion, para proveer una comparacion estandar, deriva la media analiticamente.\n",
    "Para cada uno de los casos, obten 10 numeros aleatorios, para generar variables aleatorias y calcular una media estimada\n",
    "- a) Usa Montecarlo crudo\n",
    "- b) Usa Muestreo estratificado de 0 <= F(x) <= 0.6, 0.6 <= F(x) <= 0.9 y 0.9 <= F(x) <= 1, con 3,3 y 4 variables aleatorias cada una.\n",
    "- c) Usa el metodo igualmente espaciado\n",
    "- d) usar numeros complementarios"
   ]
  },
  {
   "cell_type": "markdown",
   "metadata": {},
   "source": [
    "### Solucion Nicolas"
   ]
  },
  {
   "cell_type": "code",
   "execution_count": null,
   "metadata": {},
   "outputs": [],
   "source": []
  },
  {
   "cell_type": "code",
   "execution_count": null,
   "metadata": {},
   "outputs": [],
   "source": []
  },
  {
   "cell_type": "code",
   "execution_count": null,
   "metadata": {},
   "outputs": [],
   "source": []
  },
  {
   "cell_type": "code",
   "execution_count": null,
   "metadata": {},
   "outputs": [],
   "source": []
  },
  {
   "cell_type": "markdown",
   "metadata": {},
   "source": [
    "### Solucion Doris"
   ]
  },
  {
   "cell_type": "code",
   "execution_count": null,
   "metadata": {},
   "outputs": [],
   "source": []
  },
  {
   "cell_type": "code",
   "execution_count": null,
   "metadata": {},
   "outputs": [],
   "source": []
  },
  {
   "cell_type": "code",
   "execution_count": null,
   "metadata": {},
   "outputs": [],
   "source": []
  },
  {
   "cell_type": "code",
   "execution_count": null,
   "metadata": {},
   "outputs": [],
   "source": []
  },
  {
   "cell_type": "markdown",
   "metadata": {},
   "source": [
    "### Respuesta planteada en el ejercicio usando (markdown)\n",
    " La respuesta es ........."
   ]
  }
 ],
 "metadata": {
  "kernelspec": {
   "display_name": "Python 3",
   "language": "python",
   "name": "python3"
  },
  "language_info": {
   "codemirror_mode": {
    "name": "ipython",
    "version": 3
   },
   "file_extension": ".py",
   "mimetype": "text/x-python",
   "name": "python",
   "nbconvert_exporter": "python",
   "pygments_lexer": "ipython3",
   "version": "3.8.3"
  }
 },
 "nbformat": 4,
 "nbformat_minor": 2
}
