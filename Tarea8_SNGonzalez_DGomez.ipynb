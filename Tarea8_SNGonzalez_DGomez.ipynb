{
 "cells": [
  {
   "cell_type": "markdown",
   "metadata": {},
   "source": [
    "<img style=\"float: left; margin: 30px 15px 15px 15px;\" src=\"https://pngimage.net/wp-content/uploads/2018/06/logo-iteso-png-5.png\" width=\"300\" height=\"500\" /> \n",
    "    \n",
    "    \n",
    "### <font color='navy'> Simulación de procesos financieros. \n",
    "\n",
    "**Nombres:** Sean Nicolás González Vázquez y Doris Gomez Contreras.\n",
    "\n",
    "**Fecha:** 15 de octubre del 2020.\n",
    "\n",
    "**Expediente** : 720083, 713897.\n",
    "**Profesor:** Oscar David Jaramillo Zuluaga.\n",
    "\n",
    "# Tarea 8."
   ]
  },
  {
   "cell_type": "markdown",
   "metadata": {},
   "source": [
    "### El link donde se evidencia el trabajo es el siguiente: [GitHub Repositorio](https://github.com/nicoglez/Tareas_SNGonzalez_DGomez)"
   ]
  },
  {
   "cell_type": "markdown",
   "metadata": {},
   "source": [
    "## Enunciado de tarea \n",
    "\n",
    "> **Ejercicio.**   \n",
    "\n",
    "\n",
    "Considerar la funcion de distribucion de probabilidad cuya funcion de densidad es:\n",
    "    \n",
    "$$f(x)=\\begin{cases}\\frac{1}{x^2}, 1 \\leq x \\\\ 0, otherwise\\end{cases}$$ \n",
    "  \n",
    "El problema es hacer un experimento simulado, con la ayuda de tecnicas de reduccion de varianza, para estimar la medida de la distribucion, para proveer una comparacion estandar, deriva la media analiticamente.\n",
    "Para cada uno de los casos, obten 10 numeros aleatorios, para generar variables aleatorias y calcular una media estimada\n",
    "- a) Usa Montecarlo crudo\n",
    "- b) Usa Muestreo estratificado de 0 <= F(x) <= 0.6, 0.6 <= F(x) <= 0.9 y 0.9 <= F(x) <= 1, con 3,3 y 4 variables aleatorias cada una.\n",
    "- c) Usa el metodo igualmente espaciado\n",
    "- d) usar numeros complementarios"
   ]
  },
  {
   "cell_type": "code",
   "execution_count": 11,
   "metadata": {},
   "outputs": [],
   "source": [
    "# importacion de librerias\n",
    "\n",
    "import numpy as np\n",
    "from functools import reduce\n",
    "import time\n",
    "import matplotlib.pyplot as plt\n",
    "import scipy.stats as st     # Librería estadística\n",
    "import pandas as pd\n",
    "from scipy import optimize"
   ]
  },
  {
   "cell_type": "markdown",
   "metadata": {},
   "source": [
    "# Solucion de los Ejercicios"
   ]
  },
  {
   "cell_type": "markdown",
   "metadata": {},
   "source": [
    "\n",
    "> **Ejercicio.**   \n",
    "\n",
    "\n",
    "Considerar la funcion de distribucion de probabilidad cuya funcion de densidad es:\n",
    "    \n",
    "$$f(x)=\\begin{cases}\\frac{1}{x^2}, 1 \\leq x \\\\ 0, otherwise\\end{cases}$$ \n",
    "  \n",
    "El problema es hacer un experimento simulado, con la ayuda de tecnicas de reduccion de varianza, para estimar la medida de la distribucion, para proveer una comparacion estandar, deriva la media analiticamente.\n",
    "Para cada uno de los casos, obten 10 numeros aleatorios, para generar variables aleatorias y calcular una media estimada\n",
    "- a) Usa Montecarlo crudo\n",
    "- b) Usa Muestreo estratificado de 0 <= F(x) <= 0.6, 0.6 <= F(x) <= 0.9 y 0.9 <= F(x) <= 1, con 3,3 y 4 variables aleatorias cada una.\n",
    "- c) Usa el metodo igualmente espaciado\n",
    "- d) usar numeros complementarios"
   ]
  },
  {
   "cell_type": "markdown",
   "metadata": {},
   "source": [
    "### Solucion Nicolas"
   ]
  },
  {
   "cell_type": "markdown",
   "metadata": {},
   "source": [
    "Escribir funciones a utilizar"
   ]
  },
  {
   "cell_type": "markdown",
   "metadata": {},
   "source": [
    "- Encontrar la esperanza analitica\n",
    "\n",
    "$$E(x) = \\int_{1}^{\\infty}x\\frac{1}{x^2}dx$$\n",
    "$$E(x) = [ln(x)]_{1}^{\\infty} = ln(\\infty) = \\infty$$\n",
    "\n",
    "Esto quiere decir que la media de la distribucion sera siempre infinita, el valor siempre sera diferente.\n",
    "\n",
    "- Aplicar metodo de la transformada inversa\n",
    "\n",
    "$$F(x) = \\int_{1}^{x} \\frac{1}{x^2}dx = [-\\frac{1}{x}]_{1}^{x} = 1 - \\frac{1}{x} $$\n",
    "$$U = 1 - \\frac{1}{x}$$\n",
    "$$x = \\frac{1}{1-U}$$"
   ]
  },
  {
   "cell_type": "code",
   "execution_count": 12,
   "metadata": {},
   "outputs": [
    {
     "data": {
      "image/png": "[encoded data removed]",
      "text/plain": [
       "<Figure size 432x288 with 1 Axes>"
      ]
     },
     "metadata": {
      "needs_background": "light"
     },
     "output_type": "display_data"
    }
   ],
   "source": [
    "# probar que el metodo se consiguio de la forma correcta\n",
    "f_x = lambda x: 1/x**2 if x>=1 else 0\n",
    "f_inv = lambda u: 1/(1-u)\n",
    "\n",
    "x = np.arange(0,10,0.01)\n",
    "N = 1000\n",
    "var_aleatorias = f_inv(np.random.uniform(0,0.9,N))\n",
    "\n",
    "plt.figure()\n",
    "plt.plot(x, [f_x(xi) for xi in x])\n",
    "plt.hist(var_aleatorias, density = True, bins = 100)\n",
    "plt.show()\n"
   ]
  },
  {
   "cell_type": "code",
   "execution_count": 13,
   "metadata": {},
   "outputs": [
    {
     "data": {
      "image/png": "[encoded data removed]",
      "text/plain": [
       "<Figure size 432x288 with 1 Axes>"
      ]
     },
     "metadata": {
      "needs_background": "light"
     },
     "output_type": "display_data"
    }
   ],
   "source": [
    "# Metodo acep rechazo\n",
    "N = 1000\n",
    "f_x = lambda x: 1/x**2 if x>=1 else 0\n",
    "\n",
    "\n",
    "# Función de aceptación y rechazo usando una constante para t(x)\n",
    "def acep_rechazo_simplificada(\n",
    "    N:'Cantidad de variables a generar',\n",
    "    Dom_f:'Dominio de la función f como tupla (a,b)',\n",
    "    f:'función objetivo a generar',\n",
    "    max_f:'máximo valor de f',\n",
    "    distribucion_discreta: 'True or False'\n",
    "    '''\n",
    "    Funcion de aceptacion rechazo que devuelve N variables aleatorias\n",
    "    '''\n",
    "    \n",
    "):\n",
    "    X = np.zeros(N)\n",
    "    i = 0\n",
    "    while i < N:\n",
    "        R2 = np.random.uniform(0,max_f)\n",
    "        if distribucion_discreta:\n",
    "            R1 = np.random.randint(Dom_f[0],Dom_f[1])\n",
    "        else:\n",
    "            R1 = np.random.uniform(Dom_f[0],Dom_f[1])\n",
    "        if R2 <= f(R1):\n",
    "            X[i] = R1\n",
    "            i += 1\n",
    "    return X\n",
    "\n",
    "var_aleatorias2 = acep_rechazo_simplificada(N,(1,10),f_x, 1,False)\n",
    "\n",
    "plt.figure()\n",
    "plt.plot(x, [f_x(xi) for xi in x])\n",
    "plt.hist(var_aleatorias2, density = True, bins = 100)\n",
    "plt.show()"
   ]
  },
  {
   "cell_type": "markdown",
   "metadata": {},
   "source": [
    "## a) Montecarlo"
   ]
  },
  {
   "cell_type": "code",
   "execution_count": 26,
   "metadata": {},
   "outputs": [
    {
     "name": "stdout",
     "output_type": "stream",
     "text": [
      "La media de la funcion usando montecarlo crudo es de 3.022792189618679\n"
     ]
    }
   ],
   "source": [
    "N=10\n",
    "var_aleatorias = f_inv(np.random.uniform(0,1,N))\n",
    "\n",
    "print('La media de la funcion usando montecarlo crudo es de', var_aleatorias.mean())\n"
   ]
  },
  {
   "cell_type": "markdown",
   "metadata": {},
   "source": [
    "### b) Muestreo Estratificado "
   ]
  },
  {
   "cell_type": "code",
   "execution_count": 27,
   "metadata": {},
   "outputs": [
    {
     "name": "stdout",
     "output_type": "stream",
     "text": [
      "La media de la funcion usando metodo estratificado con diferentes espacios 9.878730425708989\n"
     ]
    }
   ],
   "source": [
    "def estratificado(N:'Numero de terminos', f_in: 'Funcion Inversa'):\n",
    "    '''\n",
    "    Funcion que hace el metodo de muestreo estratificado, devuelve variables aleatorias evaluadas en fin\n",
    "    '''\n",
    "    u1 = np.random.uniform(0,0.6,int(N*0.30))\n",
    "    u2 = np.random.uniform(0.6,0.9,int(N*0.30))\n",
    "    u3 = np.random.uniform(0.9,1,int(N*0.40))\n",
    "    r = [u1,u2,u3]\n",
    "    w = [(0.30/0.6),(0.30/0.3),(0.40/0.1)]\n",
    "    xi = list(map(lambda r, wi: f_in(r)/ wi, r, w))\n",
    "    return np.concatenate(xi)\n",
    "\n",
    "N = 10\n",
    "print('La media de la funcion usando metodo estratificado con diferentes espacios', estratificado(N, f_inv).mean())"
   ]
  },
  {
   "cell_type": "markdown",
   "metadata": {},
   "source": [
    "### c) Muestreo Estratificado igualmente espaciado"
   ]
  },
  {
   "cell_type": "code",
   "execution_count": 31,
   "metadata": {},
   "outputs": [
    {
     "name": "stdout",
     "output_type": "stream",
     "text": [
      "La media de la funcion usando metodo estratificado igualmente espaciado 5.138225940667958\n"
     ]
    }
   ],
   "source": [
    "N = 10\n",
    "def estra_igualmente_espaciado(B: 'Numero de terminos'):\n",
    "    \"\"\"\n",
    "    Funcion que devuelve variables aleatorias estratificadas igualmente espaciadas\n",
    "    \"\"\"\n",
    "    U2 = np.random.rand(B)\n",
    "    i = np.arange(0,B)\n",
    "    estra = (U2+i)/B\n",
    "    return estra\n",
    "\n",
    "rand = estra_igualmente_espaciado(N)\n",
    "\n",
    "print('La media de la funcion usando metodo estratificado igualmente espaciado', (f_inv(rand)).mean())"
   ]
  },
  {
   "cell_type": "markdown",
   "metadata": {},
   "source": [
    "### d) Numeros complementarios "
   ]
  },
  {
   "cell_type": "code",
   "execution_count": 33,
   "metadata": {},
   "outputs": [
    {
     "name": "stdout",
     "output_type": "stream",
     "text": [
      "La media de la funcion usando numeros complementarios 22.411538972136555\n"
     ]
    }
   ],
   "source": [
    "U = np.random.rand(int(N/2))\n",
    "U2 = 1-U\n",
    "\n",
    "print('La media de la funcion usando numeros complementarios', (f_inv(U).mean() + f_inv(U2).mean())/2)"
   ]
  },
  {
   "cell_type": "markdown",
   "metadata": {},
   "source": [
    "### Solucion Doris"
   ]
  },
  {
   "cell_type": "markdown",
   "metadata": {},
   "source": [
    "Para encontrar la media analítica primero sacamos la Esperanza y posterior mente tenemos dos opciones para generar números aleatorios, con el método de aceptación y rechazo o con el método de la transformada inversa.\n",
    "\n",
    "$$E(x) = \\int_{1}^{\\infty}x\\frac{1}{x^2}dx = [ln(x)]_{1}^{\\infty} = ln(\\infty) - ln(1) = ln(\\infty) = \\infty$$\n",
    "\n",
    "Usaremos el segundo método, el de la transformada inversa:\n",
    "\n",
    "\n",
    "$$F(x) = \\int_{1}^{x} \\frac{1}{x^2}dx = -\\frac{1}{x}|_{1}^{x} = - \\frac{1}{x} + 1  $$\n",
    "\n",
    "lo igualamos a U\n",
    "\n",
    "$$U = - \\frac{1}{x} +1 $$\n",
    "Despejamos para x\n",
    "\n",
    "$$\\frac{1}{x} =1-U$$\n",
    "\n",
    "$$x = \\frac{1}{1-U}$$\n",
    "\n",
    "\n",
    "Ahora con eso generamos variables aleatorias que distribuyen igual que f(x)."
   ]
  },
  {
   "cell_type": "code",
   "execution_count": 34,
   "metadata": {},
   "outputs": [
    {
     "data": {
      "text/plain": [
       "array([1.61327099, 1.64796042, 2.4399484 , 1.5005623 , 5.10793044,\n",
       "       2.81181295, 1.60119875, 1.28794463, 2.97882781, 1.60270921,\n",
       "       2.38392056, 1.68446109, 2.18104587, 7.21323033, 3.38583716,\n",
       "       3.67461654, 1.04962487, 4.82604063, 2.14137533, 1.17005871,\n",
       "       1.78981561, 1.58607226, 1.29618028, 2.80000289, 4.57546137,\n",
       "       2.12426753, 6.20819042, 2.65157827, 2.93860591, 1.03296535,\n",
       "       5.24921585, 1.0931874 , 1.25346246, 5.96725238, 1.42608369,\n",
       "       1.34969776, 3.93364185, 1.09813546, 3.48487801, 1.02083463,\n",
       "       1.089722  , 7.59701058, 2.66975034, 1.10490395, 1.16885395,\n",
       "       1.21542164, 2.39269279, 1.29628708, 1.03850672, 4.37596882,\n",
       "       1.82434201, 1.8349588 , 2.79790935, 2.73994598, 1.49718357,\n",
       "       1.57455308, 2.4964992 , 3.82886987, 1.64308568, 1.27372093,\n",
       "       4.58067934, 3.13442502, 3.68530008, 1.37832598, 3.21840183,\n",
       "       1.94146745, 3.34873898, 1.29755118, 2.67041341, 2.29739206,\n",
       "       9.82927627, 5.04386092, 1.12401382, 1.09173032, 2.87906492,\n",
       "       1.1763073 , 1.03799077, 1.04444493, 2.91565617, 4.89632386,\n",
       "       1.32679448, 1.22271616, 2.06988431, 5.49595771, 3.60105822,\n",
       "       1.0584063 , 1.1793331 , 3.47788677, 2.61251324, 9.81406571,\n",
       "       1.62054686, 1.88383227, 2.16476165, 1.35438794, 1.13442569,\n",
       "       1.56875096, 5.95692959, 6.87134058, 3.10306033, 1.00149721,\n",
       "       1.28278032, 3.43255515, 1.22810702, 2.05305968, 1.02250528,\n",
       "       6.23133729, 1.06236672, 1.59056287, 3.1960972 , 3.59075526,\n",
       "       2.1542836 , 1.03442231, 1.00121077, 3.03576344, 6.26197913,\n",
       "       5.7179701 , 2.70539773, 1.67562326, 2.39105051, 1.13275531,\n",
       "       1.79069998, 5.10905429, 1.04508626, 1.2363011 , 1.04346834,\n",
       "       2.37329014, 4.08687961, 1.46485742, 2.94676037, 2.16182232,\n",
       "       1.02450909, 8.73006182, 2.8924294 , 2.11555477, 2.57556626,\n",
       "       2.52366855, 1.46549894, 1.51105583, 2.61649626, 2.91782286,\n",
       "       7.67942917, 3.49133828, 3.96088706, 5.57227807, 2.14551748,\n",
       "       1.33868469, 1.10357507, 5.70211063, 1.07946056, 3.32231614,\n",
       "       4.22607328, 8.3153749 , 1.07446277, 2.39630354, 3.64139966,\n",
       "       1.1149084 , 1.80628244, 5.98726319, 3.34871681, 9.01526801,\n",
       "       1.08964676, 2.18643602, 1.4843852 , 1.00931055, 1.04339377,\n",
       "       1.84055742, 2.00653473, 1.60798606, 2.56265898, 2.17478133,\n",
       "       3.08891317, 1.45166409, 1.64723621, 3.19542356, 1.9673755 ,\n",
       "       1.07804969, 3.45977162, 3.68726472, 1.22444583, 3.50502074,\n",
       "       4.19419052, 6.74108214, 8.89120349, 8.19520711, 1.01476904,\n",
       "       1.17291065, 1.01837708, 5.48857851, 6.81667939, 3.62954291,\n",
       "       1.11439985, 1.14101978, 1.16074891, 1.11508775, 5.59600001,\n",
       "       3.11746958, 1.82577618, 3.09872866, 2.9467356 , 1.13386239,\n",
       "       1.20455664, 1.45878403, 5.21025207, 1.12721905, 1.22180696,\n",
       "       1.16652491, 1.34132287, 5.91161332, 1.13538582, 5.23358037,\n",
       "       5.17338521, 1.14797735, 9.72299776, 1.76094116, 2.71819443,\n",
       "       3.16685146, 1.09440255, 2.14848983, 1.23988863, 3.60338128,\n",
       "       1.87318598, 1.19893527, 1.9528815 , 1.17499363, 4.01696277,\n",
       "       3.69416289, 1.06999156, 1.5313819 , 2.45791021, 3.2143459 ,\n",
       "       3.38195665, 2.74236831, 2.46983279, 2.38367818, 2.2403504 ,\n",
       "       1.01943829, 1.4658718 , 1.135832  , 1.102451  , 1.28957626,\n",
       "       3.33198809, 2.17454299, 4.86591568, 1.56166965, 1.0031081 ,\n",
       "       2.26957433, 2.19823383, 2.38252225, 3.75491261, 1.81563961,\n",
       "       1.58559028, 5.59545181, 2.77569459, 2.54573128, 2.63580719,\n",
       "       1.29418991, 1.13630447, 1.44881438, 1.1403889 , 2.17410023,\n",
       "       1.54957113, 1.04479015, 1.44516519, 2.33398089, 1.10708525,\n",
       "       4.42242576, 2.60399808, 1.66557337, 1.2739704 , 1.09148528,\n",
       "       3.6782612 , 1.02333784, 9.62808923, 1.33280226, 2.43606072,\n",
       "       1.24988071, 2.47807748, 2.0528153 , 1.38382192, 1.0892247 ,\n",
       "       1.55402315, 3.09586575, 3.47338277, 1.06656752, 4.90611432,\n",
       "       2.84866996, 2.46529725, 2.93457926, 1.09527579, 2.22299431,\n",
       "       8.56785267, 1.45555652, 1.23274928, 1.30567684, 1.04789089,\n",
       "       1.21946077, 3.3520873 , 9.72221757, 1.52042919, 1.31527275,\n",
       "       4.5143695 , 1.31634981, 1.42897908, 1.48513848, 1.54921799,\n",
       "       1.09042495, 1.28988595, 1.41468307, 3.07256286, 1.74520641,\n",
       "       3.38971773, 1.08811793, 1.6096106 , 3.98574805, 3.17395828,\n",
       "       2.7687216 , 1.43792774, 1.92240331, 1.60131585, 7.90880419,\n",
       "       1.10666725, 1.11061113, 1.03509821, 2.01262444, 1.05615754,\n",
       "       1.44608399, 2.0227842 , 2.4514152 , 2.40664471, 2.12851974,\n",
       "       3.21072482, 2.12137039, 1.03154536, 7.62923379, 3.42164793,\n",
       "       1.90251802, 1.05317642, 9.81397285, 2.7297512 , 2.65463701,\n",
       "       5.94636016, 1.32770402, 3.2478232 , 2.52667477, 1.02064516,\n",
       "       1.05204542, 1.42783187, 1.69203562, 4.46917572, 1.1706955 ,\n",
       "       3.27691844, 5.30531284, 4.02825044, 1.85288305, 2.36891266,\n",
       "       1.93789731, 1.22594427, 1.84030995, 1.31628899, 3.36865102,\n",
       "       3.59731036, 2.88136785, 2.28006678, 1.82013751, 2.75642376,\n",
       "       7.80049589, 1.00249156, 1.96760636, 1.31101169, 1.92000316,\n",
       "       3.16428034, 1.41457396, 2.76521015, 1.235926  , 1.43142944,\n",
       "       4.14775755, 1.84412196, 3.87471972, 5.50199896, 2.43909309,\n",
       "       3.41006614, 1.09130731, 1.0805407 , 3.95927402, 1.0663524 ,\n",
       "       1.31651502, 8.55132634, 1.85454423, 1.32889374, 2.63025696,\n",
       "       2.93561766, 1.76806446, 1.63546208, 2.85628567, 1.06571768,\n",
       "       3.4722759 , 1.49908817, 3.38599706, 1.20187241, 3.964966  ,\n",
       "       1.04236648, 1.41569398, 1.28458056, 7.10059916, 1.08202392,\n",
       "       1.09065589, 1.01778501, 1.89632272, 1.01333669, 3.85266264,\n",
       "       1.14027833, 3.43858672, 5.18431068, 1.89110639, 1.38195902,\n",
       "       1.7362064 , 2.24818932, 1.69800583, 2.70512603, 1.80003193,\n",
       "       1.18789937, 1.442646  , 2.76203421, 1.25214402, 1.30079395,\n",
       "       3.84680598, 2.96972311, 2.32739198, 1.18335822, 3.50649855,\n",
       "       2.54174831, 1.21933219, 1.13080366, 2.26816632, 1.37928528,\n",
       "       1.46742517, 1.21570212, 2.11302662, 2.55375569, 1.56936467,\n",
       "       1.566904  , 3.74791204, 2.18841868, 1.53747962, 1.45841155,\n",
       "       1.89118216, 3.0553139 , 3.15944742, 3.06965009, 2.36905313,\n",
       "       1.45012915, 1.8886384 , 1.69280535, 2.87769512, 1.56419776,\n",
       "       2.03538453, 1.06360111, 1.25969757, 2.38049117, 1.04408869,\n",
       "       1.22790541, 1.0799529 , 1.30139676, 1.07683367, 2.3508563 ,\n",
       "       1.40751865, 1.43268622, 1.80925225, 3.94897987, 7.23730839,\n",
       "       1.59356794, 1.78397205, 2.83019478, 1.07814558, 2.19754589,\n",
       "       1.64603999, 1.65759189, 2.66470703, 2.72567335, 2.87143481,\n",
       "       1.49917476, 1.09630295, 2.34552384, 2.39471695, 1.79949618,\n",
       "       1.62361756, 1.16628095, 1.70958803, 1.54786978, 1.47975287,\n",
       "       1.65997811, 1.40918325, 1.51818113, 1.21902266, 1.08002691,\n",
       "       3.10460573, 1.99252677, 1.05758776, 5.02604901, 2.00523438,\n",
       "       1.26970043, 1.48939834, 6.62758049, 1.33012332, 1.55348984,\n",
       "       1.57754111, 1.23680904, 7.06113734, 3.07775224, 9.9452192 ,\n",
       "       1.06320237, 1.16977959, 5.33598671, 1.46825183, 3.86024805,\n",
       "       1.35428059, 5.95360873, 7.77818779, 1.39310845, 1.28626101,\n",
       "       3.99717383, 1.17013381, 1.03412063, 4.6382737 , 5.90180057,\n",
       "       1.19746389, 1.27580027, 1.30571164, 1.03912023, 1.26470824,\n",
       "       2.59532136, 1.28085348, 3.34428463, 8.8925459 , 1.0236537 ,\n",
       "       2.99763378, 5.54811513, 3.73535172, 1.06089463, 2.15608672,\n",
       "       1.82903798, 1.4045679 , 2.12047404, 3.91330694, 2.53381835,\n",
       "       1.50352154, 2.02853852, 1.01131873, 7.92601476, 1.30275886,\n",
       "       1.22970811, 4.06867593, 3.96598584, 6.09037498, 1.8935345 ,\n",
       "       1.24369847, 1.22831998, 2.14596475, 2.0903587 , 1.00453093,\n",
       "       1.00645935, 1.78888842, 3.42397644, 2.28044111, 2.76823732,\n",
       "       1.71923373, 1.92840437, 5.73194129, 1.78634693, 1.10157574,\n",
       "       1.32014847, 3.37706972, 1.80408688, 3.07096175, 2.32083063,\n",
       "       1.43093881, 2.6774295 , 1.54176441, 1.81088863, 1.3812829 ,\n",
       "       1.04019309, 4.19862872, 1.03302673, 1.51613176, 3.23926037,\n",
       "       6.16890655, 4.7842767 , 1.6652496 , 2.69702308, 1.13784538,\n",
       "       1.05810293, 1.32187291, 2.31721735, 8.40698246, 1.0178913 ,\n",
       "       1.65992157, 2.433072  , 4.74228857, 2.23938375, 3.01722972,\n",
       "       1.68499309, 5.12637361, 1.31535884, 5.79988518, 1.44002918,\n",
       "       1.96978783, 2.35932409, 1.63076974, 1.07271688, 1.29005583,\n",
       "       1.08294095, 1.54111723, 1.45007479, 1.34116712, 1.11005945,\n",
       "       1.26418343, 2.7868798 , 1.8867579 , 1.32364087, 3.10314843,\n",
       "       1.84179865, 1.26232695, 1.40053315, 3.73671596, 1.44594498,\n",
       "       2.07791396, 1.12513267, 1.51161482, 1.84592736, 2.62670539,\n",
       "       9.92060265, 2.68816708, 2.89711384, 1.10679457, 2.90288373,\n",
       "       1.11650025, 8.39690468, 7.39381428, 2.67873186, 3.86430437,\n",
       "       4.09379716, 2.51987252, 1.12817468, 5.18008792, 5.03868375,\n",
       "       2.6798911 , 1.57354241, 3.36455296, 1.40546958, 1.00755877,\n",
       "       1.87262456, 4.25093798, 1.04959603, 6.62448025, 1.207203  ,\n",
       "       1.10135904, 1.01552577, 1.37723263, 1.08186453, 3.03874102,\n",
       "       3.81425675, 1.49510777, 1.50974393, 1.08587742, 1.71033632,\n",
       "       1.29330858, 1.14882887, 3.70559566, 1.00338087, 1.16281748,\n",
       "       1.31277886, 1.58430635, 1.22056257, 3.95400698, 4.87749288,\n",
       "       2.55400322, 1.07287442, 1.51130755, 2.54938015, 1.06854488,\n",
       "       2.3027135 , 1.19342918, 2.48445018, 1.33581313, 2.27069288,\n",
       "       1.35343897, 5.23064192, 3.12783306, 2.52054448, 1.8650989 ,\n",
       "       1.79805211, 1.81236145, 1.06620988, 4.10817519, 1.28745151,\n",
       "       1.1653699 , 1.41826428, 1.5535116 , 1.27886028, 1.30562691,\n",
       "       8.35632217, 1.3037597 , 3.47619989, 1.40851154, 1.12095501,\n",
       "       1.33539323, 2.6788911 , 3.21730262, 3.47068593, 3.64954359,\n",
       "       5.66565221, 2.43338145, 5.8832322 , 1.29636411, 1.15452941,\n",
       "       1.89412449, 1.50543186, 2.39450027, 1.56816555, 1.25052722,\n",
       "       1.80359013, 2.51977112, 1.02290926, 1.10180839, 1.10904397,\n",
       "       7.75293836, 1.70020221, 1.59101224, 1.09233619, 1.88763472,\n",
       "       1.33655451, 3.29324125, 1.0273256 , 1.00662673, 1.05118038,\n",
       "       1.14503828, 1.75413026, 2.9204322 , 2.02091309, 4.03041271,\n",
       "       1.66144371, 1.20992272, 1.11889914, 4.81029912, 1.12370996,\n",
       "       2.57712996, 2.00011145, 5.83753567, 1.57900506, 1.0938778 ,\n",
       "       1.42029103, 2.27540721, 2.38869333, 2.74755126, 3.7718997 ,\n",
       "       1.70244799, 1.03037183, 1.03082553, 1.18989066, 1.10425687,\n",
       "       1.39884716, 1.22457282, 1.50419906, 1.52362398, 1.0161479 ,\n",
       "       2.25038949, 2.16916598, 1.64653209, 8.3975729 , 1.17123565,\n",
       "       2.89077283, 1.91946194, 1.8780721 , 1.75551786, 3.02118739,\n",
       "       1.06791938, 2.44430758, 3.93531184, 2.70770549, 1.74001259,\n",
       "       7.53741674, 2.64602882, 2.67913815, 1.98025004, 3.97498843,\n",
       "       2.70033596, 7.30565763, 1.96595519, 3.65936326, 2.97839526,\n",
       "       1.32243305, 1.01159727, 2.38355009, 1.35713236, 5.62134373,\n",
       "       4.33142249, 1.8629006 , 2.28742136, 3.5727234 , 1.05526053,\n",
       "       1.0387538 , 1.02902312, 1.62357913, 2.63054327, 2.19689803,\n",
       "       4.33127451, 1.48920045, 2.69504651, 1.59189777, 2.19517147,\n",
       "       1.99684403, 1.76227604, 1.28439771, 1.33551666, 1.36304832,\n",
       "       1.47377047, 4.68158937, 6.65363429, 1.99296993, 1.22359319,\n",
       "       2.23165767, 2.8297977 , 1.21394168, 7.01031374, 2.38881867,\n",
       "       1.31202895, 4.6540239 , 1.22482859, 1.07178569, 1.49578575,\n",
       "       3.18130199, 6.81551628, 3.59534883, 2.52804043, 1.81197196,\n",
       "       1.10122317, 4.39957497, 1.94779419, 2.08809346, 1.14313851,\n",
       "       2.40243867, 1.73420815, 2.4608853 , 2.36502998, 1.17462196,\n",
       "       1.48733034, 3.38524948, 1.47392066, 1.19412396, 1.38136505,\n",
       "       1.71343921, 1.95231425, 4.73816428, 1.77863901, 2.88724625,\n",
       "       7.06011175, 1.79142506, 5.17459534, 1.14271375, 1.87807269,\n",
       "       3.33167594, 1.15199547, 1.28221782, 4.22485548, 3.10902211,\n",
       "       6.28169175, 1.27208341, 1.9048705 , 1.42660939, 2.12485134,\n",
       "       1.33867666, 1.24803777, 2.22138354, 1.17468755, 2.40351807,\n",
       "       2.19548629, 2.48631017, 4.13967366, 5.2425844 , 1.0922311 ,\n",
       "       7.14399658, 1.5061828 , 1.43769787, 3.10384908, 2.39858986,\n",
       "       3.82100815, 3.85866509, 1.58960888, 1.73096164, 1.37227577,\n",
       "       1.99137546, 1.44761929, 1.19782358, 1.10188896, 2.35865707,\n",
       "       2.40753784, 3.83728443, 3.74999137, 2.19269739, 4.33904664,\n",
       "       2.83831162, 2.08107017, 1.55180636, 6.11834163, 1.64029432,\n",
       "       5.16860912, 2.23888302, 5.29391537, 1.30930169, 1.25418846,\n",
       "       1.13285663, 7.98034037, 2.91209641, 4.15017587, 2.20335685,\n",
       "       1.36054927, 1.29262325, 2.98646206, 2.28746561, 1.33735503,\n",
       "       1.81521891, 4.93276412, 2.84117265, 1.50826229, 2.7062504 ,\n",
       "       4.72278808, 4.5213718 , 5.32412591, 1.94323851, 1.35011467,\n",
       "       7.27403524, 1.88557513, 2.6572935 , 2.95896631, 4.19061945,\n",
       "       1.26551178, 3.15735669, 2.34569999, 3.16673864, 3.48147705,\n",
       "       1.2313161 , 1.74234803, 2.53875336, 1.65551142, 1.2483045 ,\n",
       "       1.85247749, 3.4326312 , 1.0580834 , 4.65855276, 3.52015637,\n",
       "       2.72460932, 1.01555088, 4.75674731, 3.99844848, 1.88866113,\n",
       "       1.41797506, 1.52136897, 2.57163026, 1.58980687, 3.44191095,\n",
       "       2.75327658, 2.88695636, 1.23628419, 2.72064654, 2.23464487,\n",
       "       4.02001686, 4.53548807, 2.24159711, 2.2527521 , 1.14908447,\n",
       "       1.09696306, 1.42829835, 1.92478851, 5.31600532, 2.26601091,\n",
       "       1.29369823, 2.09919794, 2.05216655, 2.23949382, 1.33366673,\n",
       "       1.09724725, 1.7286448 , 4.3153363 , 1.13156114, 4.58134218,\n",
       "       2.03734463, 1.82583041, 2.11198168, 1.01919324, 1.0589859 ,\n",
       "       1.00088409, 7.7081504 , 1.13276241, 8.49592483, 1.19353609,\n",
       "       1.03747934, 2.84994481, 1.9142827 , 1.86075684, 1.28541638])"
      ]
     },
     "execution_count": 34,
     "metadata": {},
     "output_type": "execute_result"
    }
   ],
   "source": [
    "#CLASE16\n",
    "f_x = lambda x: 1/x**2 if x>=1 else 0\n",
    "f_inv = lambda u: 1/(1-u)\n",
    "\n",
    "x = np.arange(0,10,0.01)\n",
    "N = 1000\n",
    "v_a = f_inv(np.random.uniform(0,0.9,N))\n",
    "v_a"
   ]
  },
  {
   "cell_type": "code",
   "execution_count": 35,
   "metadata": {},
   "outputs": [
    {
     "data": {
      "image/png": "[encoded data removed]",
      "text/plain": [
       "<Figure size 432x288 with 1 Axes>"
      ]
     },
     "metadata": {
      "needs_background": "light"
     },
     "output_type": "display_data"
    }
   ],
   "source": [
    "N = 1000\n",
    "f_x = lambda x: 1/x**2 if x>=1 else 0\n",
    "\n",
    "def acep_rechazo_simplificada(\n",
    "    N:'Cantidad de variables a generar',\n",
    "    Dom_f:'Dominio de la función f como tupla (a,b)',\n",
    "    f:'función objetivo a generar',\n",
    "    max_f:'máximo valor de f',\n",
    "    distribucion_discreta: 'True or False'\n",
    "):\n",
    "    X = np.zeros(N)\n",
    "    i = 0\n",
    "    while i < N:\n",
    "        R2 = np.random.uniform(0,max_f)\n",
    "        if distribucion_discreta:\n",
    "            R1 = np.random.randint(Dom_f[0],Dom_f[1])\n",
    "        else:\n",
    "            R1 = np.random.uniform(Dom_f[0],Dom_f[1])\n",
    "        if R2 <= f(R1):\n",
    "            X[i] = R1\n",
    "            i += 1####revisar que no haga ciclo\n",
    "    return X\n",
    "\n",
    "v_a2 = acep_rechazo_simplificada(N,(1,10),f_x, 1,False)\n",
    "\n",
    "plt.figure()\n",
    "plt.plot(x, [f_x(xi) for xi in x])\n",
    "plt.hist(v_a2,color=\"deeppink\" ,density = True, bins = 100)\n",
    "plt.show()"
   ]
  },
  {
   "cell_type": "code",
   "execution_count": 36,
   "metadata": {},
   "outputs": [],
   "source": [
    "N_TODOS= 10"
   ]
  },
  {
   "cell_type": "code",
   "execution_count": 37,
   "metadata": {},
   "outputs": [
    {
     "name": "stdout",
     "output_type": "stream",
     "text": [
      "inciso A\n"
     ]
    },
    {
     "data": {
      "text/plain": [
       "(2.9204321302531198, None)"
      ]
     },
     "execution_count": 37,
     "metadata": {},
     "output_type": "execute_result"
    }
   ],
   "source": [
    "var_ale_MONTE = f_inv(np.random.uniform(0,1,N_TODOS))\n",
    "var_ale_MONTE.mean(),print('inciso A')"
   ]
  },
  {
   "cell_type": "code",
   "execution_count": 41,
   "metadata": {},
   "outputs": [
    {
     "name": "stdout",
     "output_type": "stream",
     "text": [
      "inciso B\n"
     ]
    },
    {
     "data": {
      "text/plain": [
       "(3.9321053803171737, None)"
      ]
     },
     "execution_count": 41,
     "metadata": {},
     "output_type": "execute_result"
    }
   ],
   "source": [
    "def estratif(N, f_in):\n",
    "    u1 = np.random.uniform(0,0.6,int(N*0.30))\n",
    "    u2 = np.random.uniform(0.6,0.9,int(N*0.30))\n",
    "    u3 = np.random.uniform(0.9,1,int(N*0.40))##CAMBIAAAA\n",
    "    r = [u1,u2,u3]\n",
    "    w = [(0.30/0.6),(0.30/0.3),(0.40/0.1)]\n",
    "    xi = list(map(lambda r, wi: f_in(r)/ wi, r, w))\n",
    "    return np.concatenate(xi)\n",
    "\n",
    "\n",
    "estratif(N_TODOS, f_inv).mean(),print('inciso B')"
   ]
  },
  {
   "cell_type": "code",
   "execution_count": 39,
   "metadata": {},
   "outputs": [
    {
     "name": "stdout",
     "output_type": "stream",
     "text": [
      "inciso C\n"
     ]
    },
    {
     "data": {
      "text/plain": [
       "(11.61899352174395, None)"
      ]
     },
     "execution_count": 39,
     "metadata": {},
     "output_type": "execute_result"
    }
   ],
   "source": [
    "def E_igualmente_espaciado(B):\n",
    "    U2 = np.random.rand(B)\n",
    "    i = np.arange(0,B)\n",
    "    estra = (U2+i)/B\n",
    "    return estra\n",
    "\n",
    "RR = E_igualmente_espaciado(N_TODOS)\n",
    "\n",
    "(f_inv(RR)).mean(),print('inciso C')"
   ]
  },
  {
   "cell_type": "code",
   "execution_count": 40,
   "metadata": {},
   "outputs": [
    {
     "name": "stdout",
     "output_type": "stream",
     "text": [
      "inciso D\n"
     ]
    },
    {
     "data": {
      "text/plain": [
       "(3.510918587610276, None)"
      ]
     },
     "execution_count": 40,
     "metadata": {},
     "output_type": "execute_result"
    }
   ],
   "source": [
    "U = np.random.rand(int(N_TODOS/2))\n",
    "U2 = 1-U\n",
    "\n",
    "(f_inv(U).mean() + f_inv(U2).mean())/2,print('inciso D')"
   ]
  }
 ],
 "metadata": {
  "kernelspec": {
   "display_name": "Python 3",
   "language": "python",
   "name": "python3"
  },
  "language_info": {
   "codemirror_mode": {
    "name": "ipython",
    "version": 3
   },
   "file_extension": ".py",
   "mimetype": "text/x-python",
   "name": "python",
   "nbconvert_exporter": "python",
   "pygments_lexer": "ipython3",
   "version": "3.8.3"
  }
 },
 "nbformat": 4,
 "nbformat_minor": 2
}
