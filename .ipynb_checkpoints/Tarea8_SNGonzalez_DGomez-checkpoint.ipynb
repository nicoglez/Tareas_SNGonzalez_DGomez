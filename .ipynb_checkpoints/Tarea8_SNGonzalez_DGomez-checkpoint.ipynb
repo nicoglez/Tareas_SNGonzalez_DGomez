{
 "cells": [
  {
   "cell_type": "markdown",
   "metadata": {},
   "source": [
    "<img style=\"float: left; margin: 30px 15px 15px 15px;\" src=\"https://pngimage.net/wp-content/uploads/2018/06/logo-iteso-png-5.png\" width=\"300\" height=\"500\" /> \n",
    "    \n",
    "    \n",
    "### <font color='navy'> Simulación de procesos financieros. \n",
    "\n",
    "**Nombres:** Sean Nicolás González Vázquez y Doris Gomez Contreras.\n",
    "\n",
    "**Fecha:** 15 de octubre del 2020.\n",
    "\n",
    "**Expediente** : 720083, 713897.\n",
    "**Profesor:** Oscar David Jaramillo Zuluaga.\n",
    "\n",
    "# Tarea 8."
   ]
  },
  {
   "cell_type": "markdown",
   "metadata": {},
   "source": [
    "### El link donde se evidencia el trabajo es el siguiente: [GitHub Repositorio](https://github.com/nicoglez/Tareas_SNGonzalez_DGomez)"
   ]
  },
  {
   "cell_type": "markdown",
   "metadata": {},
   "source": [
    "## Enunciado de tarea \n",
    "\n",
    "> **Ejercicio.**   \n",
    "\n",
    "\n",
    "Considerar la funcion de distribucion de probabilidad cuya funcion de densidad es:\n",
    "    \n",
    "$$f(x)=\\begin{cases}\\frac{1}{x^2}, 1 \\leq x \\\\ 0, otherwise\\end{cases}$$ \n",
    "  \n",
    "El problema es hacer un experimento simulado, con la ayuda de tecnicas de reduccion de varianza, para estimar la medida de la distribucion, para proveer una comparacion estandar, deriva la media analiticamente.\n",
    "Para cada uno de los casos, obten 10 numeros aleatorios, para generar variables aleatorias y calcular una media estimada\n",
    "- a) Usa Montecarlo crudo\n",
    "- b) Usa Muestreo estratificado de 0 <= F(x) <= 0.6, 0.6 <= F(x) <= 0.9 y 0.9 <= F(x) <= 1, con 3,3 y 4 variables aleatorias cada una.\n",
    "- c) Usa el metodo igualmente espaciado\n",
    "- d) usar numeros complementarios"
   ]
  },
  {
   "cell_type": "code",
   "execution_count": 1,
   "metadata": {},
   "outputs": [],
   "source": [
    "# importacion de librerias\n",
    "\n",
    "import numpy as np\n",
    "from functools import reduce\n",
    "import time\n",
    "import matplotlib.pyplot as plt\n",
    "import scipy.stats as st     # Librería estadística\n",
    "import pandas as pd\n",
    "from scipy import optimize"
   ]
  },
  {
   "cell_type": "markdown",
   "metadata": {},
   "source": [
    "# Solucion de los Ejercicios"
   ]
  },
  {
   "cell_type": "markdown",
   "metadata": {},
   "source": [
    "\n",
    "> **Ejercicio.**   \n",
    "\n",
    "\n",
    "Considerar la funcion de distribucion de probabilidad cuya funcion de densidad es:\n",
    "    \n",
    "$$f(x)=\\begin{cases}\\frac{1}{x^2}, 1 \\leq x \\\\ 0, otherwise\\end{cases}$$ \n",
    "  \n",
    "El problema es hacer un experimento simulado, con la ayuda de tecnicas de reduccion de varianza, para estimar la medida de la distribucion, para proveer una comparacion estandar, deriva la media analiticamente.\n",
    "Para cada uno de los casos, obten 10 numeros aleatorios, para generar variables aleatorias y calcular una media estimada\n",
    "- a) Usa Montecarlo crudo\n",
    "- b) Usa Muestreo estratificado de 0 <= F(x) <= 0.6, 0.6 <= F(x) <= 0.9 y 0.9 <= F(x) <= 1, con 3,3 y 4 variables aleatorias cada una.\n",
    "- c) Usa el metodo igualmente espaciado\n",
    "- d) usar numeros complementarios"
   ]
  },
  {
   "cell_type": "markdown",
   "metadata": {},
   "source": [
    "### Solucion Nicolas"
   ]
  },
  {
   "cell_type": "markdown",
   "metadata": {},
   "source": [
    "Escribir funciones a utilizar"
   ]
  },
  {
   "cell_type": "markdown",
   "metadata": {},
   "source": [
    "- Encontrar la esperanza analitica\n",
    "\n",
    "$$E(x) = \\int_{1}^{\\infty}x\\frac{1}{x^2}dx$$\n",
    "$$E(x) = [ln(x)]_{1}^{\\infty} = ln(\\infty) = \\infty$$\n",
    "\n",
    "Esto quiere decir que la media de la distribucion sera siempre infinita, el valor siempre sera diferente.\n",
    "\n",
    "- Aplicar metodo de la transformada inversa\n",
    "\n",
    "$$F(x) = \\int_{1}^{x} \\frac{1}{x^2}dx = [-\\frac{1}{x}]_{1}^{x} = 1 - \\frac{1}{x} $$\n",
    "$$U = 1 - \\frac{1}{x}$$\n",
    "$$x = \\frac{1}{1-U}$$"
   ]
  },
  {
   "cell_type": "code",
   "execution_count": 3,
   "metadata": {},
   "outputs": [
    {
     "data": {
      "image/png": "[encoded data removed]",
      "text/plain": [
       "<Figure size 432x288 with 1 Axes>"
      ]
     },
     "metadata": {
      "needs_background": "light"
     },
     "output_type": "display_data"
    }
   ],
   "source": [
    "# probar que el metodo se consiguio de la forma correcta\n",
    "f_x = lambda x: 1/x**2 if x>=1 else 0\n",
    "f_inv = lambda u: 1/(1-u)\n",
    "\n",
    "x = np.arange(0,10,0.01)\n",
    "N = 1000\n",
    "var_aleatorias = f_inv(np.random.uniform(0,0.9,N))\n",
    "\n",
    "plt.figure()\n",
    "plt.plot(x, [f_x(xi) for xi in x])\n",
    "plt.hist(var_aleatorias, density = True, bins = 100)\n",
    "plt.show()\n"
   ]
  },
  {
   "cell_type": "code",
   "execution_count": 19,
   "metadata": {},
   "outputs": [
    {
     "data": {
      "image/png": "[encoded data removed]",
      "text/plain": [
       "<Figure size 432x288 with 1 Axes>"
      ]
     },
     "metadata": {
      "needs_background": "light"
     },
     "output_type": "display_data"
    }
   ],
   "source": [
    "# Metodo acep rechazo\n",
    "N = 1000\n",
    "f_x = lambda x: 1/x**2 if x>=1 else 0\n",
    "\n",
    "\n",
    "# Función de aceptación y rechazo usando una constante para t(x)\n",
    "def acep_rechazo_simplificada(\n",
    "    N:'Cantidad de variables a generar',\n",
    "    Dom_f:'Dominio de la función f como tupla (a,b)',\n",
    "    f:'función objetivo a generar',\n",
    "    max_f:'máximo valor de f',\n",
    "    distribucion_discreta: 'True or False'\n",
    "    '''\n",
    "    Funcion de aceptacion rechazo que devuelve N variables aleatorias\n",
    "    '''\n",
    "    \n",
    "):\n",
    "    X = np.zeros(N)\n",
    "    i = 0\n",
    "    while i < N:\n",
    "        R2 = np.random.uniform(0,max_f)\n",
    "        if distribucion_discreta:\n",
    "            R1 = np.random.randint(Dom_f[0],Dom_f[1])\n",
    "        else:\n",
    "            R1 = np.random.uniform(Dom_f[0],Dom_f[1])\n",
    "        if R2 <= f(R1):\n",
    "            X[i] = R1\n",
    "            i += 1\n",
    "    return X\n",
    "\n",
    "var_aleatorias2 = acep_rechazo_simplificada(N,(1,10),f_x, 1,False)\n",
    "\n",
    "plt.figure()\n",
    "plt.plot(x, [f_x(xi) for xi in x])\n",
    "plt.hist(var_aleatorias2, density = True, bins = 100)\n",
    "plt.show()"
   ]
  },
  {
   "cell_type": "markdown",
   "metadata": {},
   "source": [
    "## a) Montecarlo"
   ]
  },
  {
   "cell_type": "code",
   "execution_count": 31,
   "metadata": {},
   "outputs": [
    {
     "name": "stdout",
     "output_type": "stream",
     "text": [
      "La media de la funcion usando montecarlo crudo es de 13.879316256491856\n"
     ]
    }
   ],
   "source": [
    "N=10\n",
    "var_aleatorias = f_inv(np.random.uniform(0,1,N))\n",
    "\n",
    "print('La media de la funcion usando montecarlo crudo es de', var_aleatorias.mean())\n"
   ]
  },
  {
   "cell_type": "markdown",
   "metadata": {},
   "source": [
    "### b) Muestreo Estratificado "
   ]
  },
  {
   "cell_type": "code",
   "execution_count": 32,
   "metadata": {},
   "outputs": [
    {
     "data": {
      "text/plain": [
       "16.736163835579077"
      ]
     },
     "execution_count": 32,
     "metadata": {},
     "output_type": "execute_result"
    }
   ],
   "source": [
    "def estratificado(N:'Numero de terminos', f_in: 'Funcion Inversa'):\n",
    "    '''\n",
    "    Funcion que hace el metodo de muestreo estratificado, devuelve variables aleatorias evaluadas en fin\n",
    "    '''\n",
    "    u1 = np.random.uniform(0,0.6,int(N*0.30))\n",
    "    u2 = np.random.uniform(0.6,0.9,int(N*0.30))\n",
    "    u3 = np.random.uniform(0.9,1,int(N*0.40))\n",
    "    r = [u1,u2,u3]\n",
    "    w = [(0.30/0.6),(0.30/0.3),(0.40/0.1)]\n",
    "    xi = list(map(lambda r, wi: f_in(r)/ wi, r, w))\n",
    "    return np.concatenate(xi)\n",
    "\n",
    "N = 10\n",
    "estratificado(N, f_inv).mean()"
   ]
  },
  {
   "cell_type": "markdown",
   "metadata": {},
   "source": [
    "### c) Muestreo Estratificado igualmente espaciado"
   ]
  },
  {
   "cell_type": "code",
   "execution_count": 33,
   "metadata": {},
   "outputs": [
    {
     "data": {
      "text/plain": [
       "3.312243803514557"
      ]
     },
     "execution_count": 33,
     "metadata": {},
     "output_type": "execute_result"
    }
   ],
   "source": [
    "N = 10\n",
    "def estra_igualmente_espaciado(B: 'Numero de terminos'):\n",
    "    \"\"\"\n",
    "    Funcion que devuelve variables aleatorias estratificadas igualmente espaciadas\n",
    "    \"\"\"\n",
    "    U2 = np.random.rand(B)\n",
    "    i = np.arange(0,B)\n",
    "    estra = (U2+i)/B\n",
    "    return estra\n",
    "\n",
    "rand = estra_igualmente_espaciado(N)\n",
    "\n",
    "(f_inv(rand)).mean()"
   ]
  },
  {
   "cell_type": "markdown",
   "metadata": {},
   "source": [
    "### d) Numeros complementarios "
   ]
  },
  {
   "cell_type": "code",
   "execution_count": 35,
   "metadata": {},
   "outputs": [
    {
     "data": {
      "text/plain": [
       "3.9064823037319023"
      ]
     },
     "execution_count": 35,
     "metadata": {},
     "output_type": "execute_result"
    }
   ],
   "source": [
    "U = np.random.rand(int(N/2))\n",
    "U2 = 1-U\n",
    "\n",
    "(f_inv(U).mean() + f_inv(U2).mean())/2"
   ]
  },
  {
   "cell_type": "markdown",
   "metadata": {},
   "source": [
    "### Solucion Doris"
   ]
  },
  {
   "cell_type": "code",
   "execution_count": null,
   "metadata": {},
   "outputs": [],
   "source": []
  },
  {
   "cell_type": "code",
   "execution_count": null,
   "metadata": {},
   "outputs": [],
   "source": []
  },
  {
   "cell_type": "code",
   "execution_count": null,
   "metadata": {},
   "outputs": [],
   "source": []
  },
  {
   "cell_type": "code",
   "execution_count": null,
   "metadata": {},
   "outputs": [],
   "source": []
  }
 ],
 "metadata": {
  "kernelspec": {
   "display_name": "Python 3",
   "language": "python",
   "name": "python3"
  },
  "language_info": {
   "codemirror_mode": {
    "name": "ipython",
    "version": 3
   },
   "file_extension": ".py",
   "mimetype": "text/x-python",
   "name": "python",
   "nbconvert_exporter": "python",
   "pygments_lexer": "ipython3",
   "version": "3.8.3"
  }
 },
 "nbformat": 4,
 "nbformat_minor": 2
}
