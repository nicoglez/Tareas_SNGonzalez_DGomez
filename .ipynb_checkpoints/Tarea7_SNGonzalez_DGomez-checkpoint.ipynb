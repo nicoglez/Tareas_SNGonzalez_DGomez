{
 "cells": [
  {
   "cell_type": "markdown",
   "metadata": {},
   "source": [
    "<img style=\"float: left; margin: 30px 15px 15px 15px;\" src=\"https://pngimage.net/wp-content/uploads/2018/06/logo-iteso-png-5.png\" width=\"300\" height=\"500\" /> \n",
    "    \n",
    "    \n",
    "### <font color='navy'> Simulación de procesos financieros. \n",
    "\n",
    "**Nombres:** Sean Nicolás González Vázquez y Doris Gomez Contreras.\n",
    "\n",
    "**Fecha:** 15 de octubre del 2020.\n",
    "\n",
    "**Expediente** : 720083, 713897.\n",
    "**Profesor:** Oscar David Jaramillo Zuluaga.\n",
    "\n",
    "# Tarea 7. Metodos de Reduccion de Varianza"
   ]
  },
  {
   "cell_type": "markdown",
   "metadata": {},
   "source": [
    "## Enunciado de tarea \n",
    "\n",
    "> **Ejercicio 1.** Aproxime el valor de la siguiente integral usando el método monte carlo crudo y método de reducción de varianza de muestreo estratíficado\n",
    ">$$I=\\int_{0}^{1}x^2\\text{d}x=\\left.\\frac{x^3}{3}\\right|_{x=0}^{x=1}=\\frac{1}{3}\\approx 0.33333$$\n",
    ">Pasos\n",
    ">1. Cree una función que realice el método de muestreo estratíficado, recibiendo como único parámetro de entrada la cantidad de estratos y retornando las variables estratíficadas correspondientes.\n",
    ">2. Reporte los resultados de la aproximación de la integral usando montecarlo crudo y muestreo estratíficado, en un Dataframe \n"
   ]
  },
  {
   "cell_type": "markdown",
   "metadata": {},
   "source": [
    "# Solucion de los Ejercicios"
   ]
  },
  {
   "cell_type": "markdown",
   "metadata": {},
   "source": [
    "> **Ejercicio 1.** Aproxime el valor de la siguiente integral usando el método monte carlo crudo y método de reducción de varianza de muestreo estratíficado\n",
    ">$$I=\\int_{0}^{1}x^2\\text{d}x=\\left.\\frac{x^3}{3}\\right|_{x=0}^{x=1}=\\frac{1}{3}\\approx 0.33333$$\n",
    ">Pasos\n",
    ">1. Cree una función que realice el método de muestreo estratíficado, recibiendo como único parámetro de entrada la cantidad de estratos y retornando las variables estratíficadas correspondientes.\n",
    ">2. Reporte los resultados de la aproximación de la integral usando montecarlo crudo y muestreo estratíficado, en un Dataframe \n"
   ]
  },
  {
   "cell_type": "markdown",
   "metadata": {},
   "source": [
    "### Solucion Nicolas"
   ]
  },
  {
   "cell_type": "code",
   "execution_count": null,
   "metadata": {},
   "outputs": [],
   "source": []
  },
  {
   "cell_type": "code",
   "execution_count": null,
   "metadata": {},
   "outputs": [],
   "source": []
  },
  {
   "cell_type": "code",
   "execution_count": null,
   "metadata": {},
   "outputs": [],
   "source": []
  },
  {
   "cell_type": "code",
   "execution_count": null,
   "metadata": {},
   "outputs": [],
   "source": []
  },
  {
   "cell_type": "markdown",
   "metadata": {},
   "source": [
    "### Solucion Doris"
   ]
  },
  {
   "cell_type": "code",
   "execution_count": 1,
   "metadata": {},
   "outputs": [
    {
     "data": {
      "text/plain": [
       "array([0.03373378, 0.13683475, 0.25709596, 0.34443495, 0.47617523,\n",
       "       0.59079755, 0.69963702, 0.70982803, 0.85548576, 0.93452196])"
      ]
     },
     "execution_count": 1,
     "metadata": {},
     "output_type": "execute_result"
    }
   ],
   "source": [
    "##LIBSSS\n",
    "import numpy as np\n",
    "from functools import reduce\n",
    "import time\n",
    "import matplotlib.pyplot as plt\n",
    "import scipy.stats as st\n",
    "import pandas as pd\n",
    "def i_monte(f,a,b,U):\n",
    "    '''f = Función a integrar\n",
    "        a = límite inferior\n",
    "        b = límie superior\n",
    "        Muestra de números U~(ab)\n",
    "        '''\n",
    "    return (b-a)/len(U)*np.sum(f(U))\n",
    "\n",
    "def estratificado(B):\n",
    "    '''Esta función realiza el método de muestreo estratificado.\n",
    "        B: Cantidad de estratos.'''\n",
    "    U2 = np.random.rand(B)\n",
    "    i = np.arange(0,B)\n",
    "    v = (U2+i)/B\n",
    "    m_estratificado = st.norm.ppf(v)\n",
    "    return v#m_estratificado\n",
    "estratificado(10)"
   ]
  },
  {
   "cell_type": "code",
   "execution_count": 2,
   "metadata": {},
   "outputs": [
    {
     "data": {
      "text/html": [
       "<div>\n",
       "<style scoped>\n",
       "    .dataframe tbody tr th:only-of-type {\n",
       "        vertical-align: middle;\n",
       "    }\n",
       "\n",
       "    .dataframe tbody tr th {\n",
       "        vertical-align: top;\n",
       "    }\n",
       "\n",
       "    .dataframe thead th {\n",
       "        text-align: right;\n",
       "    }\n",
       "</style>\n",
       "<table border=\"1\" class=\"dataframe\">\n",
       "  <thead>\n",
       "    <tr style=\"text-align: right;\">\n",
       "      <th></th>\n",
       "      <th>Montecarlo.Crudo</th>\n",
       "      <th>Error_relativo 1%</th>\n",
       "      <th>Muestreo.Estratificado</th>\n",
       "      <th>Error_relativo 2%</th>\n",
       "    </tr>\n",
       "    <tr>\n",
       "      <th>Cantidad_terminos</th>\n",
       "      <th></th>\n",
       "      <th></th>\n",
       "      <th></th>\n",
       "      <th></th>\n",
       "    </tr>\n",
       "  </thead>\n",
       "  <tbody>\n",
       "    <tr>\n",
       "      <th>10</th>\n",
       "      <td>0.446412</td>\n",
       "      <td>33.923701</td>\n",
       "      <td>0.354263</td>\n",
       "      <td>6.278969e+00</td>\n",
       "    </tr>\n",
       "    <tr>\n",
       "      <th>100</th>\n",
       "      <td>0.260780</td>\n",
       "      <td>21.765986</td>\n",
       "      <td>0.333280</td>\n",
       "      <td>1.597157e-02</td>\n",
       "    </tr>\n",
       "    <tr>\n",
       "      <th>1000</th>\n",
       "      <td>0.328895</td>\n",
       "      <td>1.331570</td>\n",
       "      <td>0.333315</td>\n",
       "      <td>5.587684e-03</td>\n",
       "    </tr>\n",
       "    <tr>\n",
       "      <th>10000</th>\n",
       "      <td>0.335102</td>\n",
       "      <td>0.530572</td>\n",
       "      <td>0.333334</td>\n",
       "      <td>8.079580e-05</td>\n",
       "    </tr>\n",
       "    <tr>\n",
       "      <th>100000</th>\n",
       "      <td>0.332905</td>\n",
       "      <td>0.128646</td>\n",
       "      <td>0.333333</td>\n",
       "      <td>9.333375e-07</td>\n",
       "    </tr>\n",
       "    <tr>\n",
       "      <th>1000000</th>\n",
       "      <td>0.333020</td>\n",
       "      <td>0.094091</td>\n",
       "      <td>0.333333</td>\n",
       "      <td>2.015831e-07</td>\n",
       "    </tr>\n",
       "    <tr>\n",
       "      <th>10000000</th>\n",
       "      <td>0.333371</td>\n",
       "      <td>0.011305</td>\n",
       "      <td>0.333333</td>\n",
       "      <td>2.376266e-10</td>\n",
       "    </tr>\n",
       "  </tbody>\n",
       "</table>\n",
       "</div>"
      ],
      "text/plain": [
       "                   Montecarlo.Crudo  Error_relativo 1%  \\\n",
       "Cantidad_terminos                                        \n",
       "10                         0.446412          33.923701   \n",
       "100                        0.260780          21.765986   \n",
       "1000                       0.328895           1.331570   \n",
       "10000                      0.335102           0.530572   \n",
       "100000                     0.332905           0.128646   \n",
       "1000000                    0.333020           0.094091   \n",
       "10000000                   0.333371           0.011305   \n",
       "\n",
       "                   Muestreo.Estratificado  Error_relativo 2%  \n",
       "Cantidad_terminos                                             \n",
       "10                               0.354263       6.278969e+00  \n",
       "100                              0.333280       1.597157e-02  \n",
       "1000                             0.333315       5.587684e-03  \n",
       "10000                            0.333334       8.079580e-05  \n",
       "100000                           0.333333       9.333375e-07  \n",
       "1000000                          0.333333       2.015831e-07  \n",
       "10000000                         0.333333       2.376266e-10  "
      ]
     },
     "execution_count": 2,
     "metadata": {},
     "output_type": "execute_result"
    }
   ],
   "source": [
    "# respuesta 2\n",
    "I = 1/3\n",
    "# intervalo de integración\n",
    "a = 0; b = 1\n",
    "\n",
    "# Cantidad de términos, en escala logarítmica\n",
    "N = np.logspace(1,7,7,dtype=int)\n",
    "\n",
    "\n",
    "\n",
    "# Números aleatorios dependiente de la cantidad de términos N\n",
    "ui = list(map(lambda N:np.random.uniform(a,b,N),N))\n",
    "\n",
    "# Calculamos la aproximación por montecarlo dependiendo de la cantidad de\n",
    "# términos que hayamos creado con ui\n",
    "I_m = list(map(lambda Y:i_monte(lambda x:x**2,a,b,Y),ui))\n",
    "\n",
    "\n",
    "## estratificado:\n",
    "ui_est = list(map(lambda x: estratificado(x), N))\n",
    "\n",
    "fx = lambda x: x**2\n",
    "I_m_est = list(map(lambda Y:fx(Y),ui_est))\n",
    "I_m_est = list(map(lambda Y:np.mean(Y),I_m_est))\n",
    "\n",
    "\n",
    "df = pd.DataFrame(index=N,columns=['Montecarlo.Crudo', 'Error_relativo 1%','Muestreo.Estratificado', 'Error_relativo 2%'], dtype='float')\n",
    "df.index.name = \"Cantidad_terminos\"\n",
    "df.loc[N,'Montecarlo.Crudo'] = I_m\n",
    "df.loc[N,\"Error_relativo 1%\"] = np.abs(df.loc[N,\"Montecarlo.Crudo\"]-I)*100/I\n",
    "df.loc[N,\"Muestreo.Estratificado\"] = I_m_est\n",
    "df.loc[N,\"Error_relativo 2%\"] = np.abs(df.loc[N,\"Muestreo.Estratificado\"]-I)*100/I\n",
    "df"
   ]
  },
  {
   "cell_type": "code",
   "execution_count": null,
   "metadata": {},
   "outputs": [],
   "source": []
  },
  {
   "cell_type": "code",
   "execution_count": null,
   "metadata": {},
   "outputs": [],
   "source": []
  },
  {
   "cell_type": "markdown",
   "metadata": {},
   "source": [
    "### Respuesta planteada en el ejercicio usando (markdown)\n",
    " La respuesta es ........."
   ]
  }
 ],
 "metadata": {
  "kernelspec": {
   "display_name": "Python 3",
   "language": "python",
   "name": "python3"
  },
  "language_info": {
   "codemirror_mode": {
    "name": "ipython",
    "version": 3
   },
   "file_extension": ".py",
   "mimetype": "text/x-python",
   "name": "python",
   "nbconvert_exporter": "python",
   "pygments_lexer": "ipython3",
   "version": "3.8.3"
  }
 },
 "nbformat": 4,
 "nbformat_minor": 2
}
