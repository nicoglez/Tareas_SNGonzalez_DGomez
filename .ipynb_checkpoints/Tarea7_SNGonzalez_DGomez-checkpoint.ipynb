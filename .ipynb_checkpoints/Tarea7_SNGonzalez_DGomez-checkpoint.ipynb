{
 "cells": [
  {
   "cell_type": "markdown",
   "metadata": {},
   "source": [
    "<img style=\"float: left; margin: 30px 15px 15px 15px;\" src=\"https://pngimage.net/wp-content/uploads/2018/06/logo-iteso-png-5.png\" width=\"300\" height=\"500\" /> \n",
    "    \n",
    "    \n",
    "### <font color='navy'> Simulación de procesos financieros. \n",
    "\n",
    "**Nombres:** Sean Nicolás González Vázquez y Doris Gomez Contreras.\n",
    "\n",
    "**Fecha:** 15 de octubre del 2020.\n",
    "\n",
    "**Expediente** : 720083, 713897.\n",
    "**Profesor:** Oscar David Jaramillo Zuluaga.\n",
    "\n",
    "# Tarea 7. Metodos de Reduccion de Varianza"
   ]
  },
  {
   "cell_type": "markdown",
   "metadata": {},
   "source": [
    "### El link donde se evidencia el trabajo es el siguiente: [GitHub Repositorio](https://github.com/nicoglez/Tareas_SNGonzalez_DGomez)"
   ]
  },
  {
   "cell_type": "markdown",
   "metadata": {},
   "source": [
    "## Enunciado de tarea \n",
    "\n",
    "> **Ejercicio 1.** Aproxime el valor de la siguiente integral usando el método monte carlo crudo y método de reducción de varianza de muestreo estratíficado\n",
    ">$$I=\\int_{0}^{1}x^2\\text{d}x=\\left.\\frac{x^3}{3}\\right|_{x=0}^{x=1}=\\frac{1}{3}\\approx 0.33333$$\n",
    ">Pasos\n",
    ">1. Cree una función que realice el método de muestreo estratíficado, recibiendo como único parámetro de entrada la cantidad de estratos y retornando las variables estratíficadas correspondientes.\n",
    ">2. Reporte los resultados de la aproximación de la integral usando montecarlo crudo y muestreo estratíficado, en un Dataframe \n",
    "\n",
    "> **Ejercicio 2**\n",
    "\n",
    "<img style=\"float: left; margin: 30px 15px 15px 15px;\" src= 'https://lh3.googleusercontent.com/m2iE8srueLQktUOrVHnouqbkk-uMEM7yYnPw_REAfwcrfJGoti4QC_mPcMUwyS7n6tJbRR5ZqSSlWOBl7GTBDdxFspGl0gXzxv-1BfiT-FwuCZphqBrvLLNnep_9MLOrjFAPUfUoP9Utb5ShvI3ytuVZckPjOHz5fq2HBOhJibXNs8NQBeGYbOr7qUmM_0xK_bhET0GQO2XIXZKCavpINeKelTqleGUPIQ5iNLHuUP15afLCLF4qO4UHx7IV7Z-U7t4SNBu-4uA2re5DgaUwgX5Oxkl72_TAyOUAgMmQ8UBpc-lEsASi4ePqLo93yCwIQBKaGAvVFeXoRl7c9gXi4KSfoKKgXOpguhEl0NpbBoKJDsD__-A1QP-KDCFgqqC20BadZjoY09z81cL2Z7asjeFl-fPVYpN_mhv5J0rEgfbFmOi6GGQVbcJesVns3CihbPEBLV0rm6TsAbI5b_3aqgdoyYktYHnM5La_I6SmoQ6KtafTxi4Gj_CnR36ZhK4izg1qba2H6kSqIowmiiLmHpfLN937dlKvWl2amijSo_jyt8PGPdzIegndaeIdd3Gq4e8lzkfgM9X3rtoSZNmJb_EExI1X-jk4O76m1MXG_UMhF5HUp2sV0cYPw6UnHyStxs1-g0nWqR2gPgi08IGKKNqU4v8vJrfic6e75ohfgFr90DSiaO-6AvMZaFbD=w649-h545-no?authuser=0' width=\"400\" height=\"500\" /> \n",
    "  \n",
    "   \n",
    "Además use el método de estratificación donde se divide en B estratos, visto la clase pasada y compare el resultado con los métodos anteriores cuando se toman $2,4,6,10$ estratos respectivamente, concluya."
   ]
  },
  {
   "cell_type": "markdown",
   "metadata": {},
   "source": [
    "**Importacion de librerias**"
   ]
  },
  {
   "cell_type": "code",
   "execution_count": 1,
   "metadata": {},
   "outputs": [],
   "source": [
    "import numpy as np\n",
    "import pandas as pd \n",
    "import matplotlib.pyplot as plt\n",
    "from scipy import optimize\n",
    "\n",
    "%matplotlib inline"
   ]
  },
  {
   "cell_type": "markdown",
   "metadata": {},
   "source": [
    "# Solucion de los Ejercicios"
   ]
  },
  {
   "cell_type": "markdown",
   "metadata": {},
   "source": [
    "> **Ejercicio 1.** Aproxime el valor de la siguiente integral usando el método monte carlo crudo y método de reducción de varianza de muestreo estratíficado\n",
    ">$$I=\\int_{0}^{1}x^2\\text{d}x=\\left.\\frac{x^3}{3}\\right|_{x=0}^{x=1}=\\frac{1}{3}\\approx 0.33333$$\n",
    ">Pasos\n",
    ">1. Cree una función que realice el método de muestreo estratíficado, recibiendo como único parámetro de entrada la cantidad de estratos y retornando las variables estratíficadas correspondientes.\n",
    ">2. Reporte los resultados de la aproximación de la integral usando montecarlo crudo y muestreo estratíficado, en un Dataframe \n"
   ]
  },
  {
   "cell_type": "markdown",
   "metadata": {},
   "source": [
    "### Solucion Nicolas"
   ]
  },
  {
   "cell_type": "code",
   "execution_count": 2,
   "metadata": {},
   "outputs": [],
   "source": [
    "# funcion muestreo estratificado\n",
    "def met_estratificado(N: 'Cantidad de estratos'):\n",
    "    '''Funcion que realiza el metodo de muestreo estratificado, retorna variales aleatorias estratificadas'''\n",
    "    B = N \n",
    "    U = np.random.rand(B)\n",
    "    i = np.arange(0,B)\n",
    "    strat = (U+i)/B\n",
    "    return strat"
   ]
  },
  {
   "cell_type": "code",
   "execution_count": 3,
   "metadata": {},
   "outputs": [],
   "source": [
    "# Integración montecarlo\n",
    "def int_montecarlo(f:'Función a integrar',\n",
    "                   a:'Límite inferior de la integral',\n",
    "                   b:'Límite superior de la integral',\n",
    "                   U:'Muestra de números U~[a,b]'):\n",
    "    return (b-a)/len(U)*np.sum(f(U))"
   ]
  },
  {
   "cell_type": "code",
   "execution_count": 4,
   "metadata": {},
   "outputs": [],
   "source": [
    "a=0 ; b=1 ; I = 1/3; func = lambda x: x**2 # variables/func iniciales\n",
    "N = np.logspace(1,7,7,dtype=int) # Cantidad de términos, en escala logarítmica\n",
    "\n",
    "# Integral con metodo de MONTECARLO CURDO\n",
    "U = [np.random.uniform(a,b,i) for i in N] # compresion para generar aleatorios en funcion de cada N diferente\n",
    "integral = [int_montecarlo(func,a,b,u) for u in U] # integrar la funcion para cada u generada\n",
    "\n",
    "# Integral con metodo estratificado\n",
    "strat = [met_estratificado(n) for n in N] # Aplicar metodo estratificado a n variables\n",
    "integral_strat = [int_montecarlo(func,a,b,s) for s in strat] # Evaluar "
   ]
  },
  {
   "cell_type": "code",
   "execution_count": 5,
   "metadata": {},
   "outputs": [
    {
     "data": {
      "text/html": [
       "<div>\n",
       "<style scoped>\n",
       "    .dataframe tbody tr th:only-of-type {\n",
       "        vertical-align: middle;\n",
       "    }\n",
       "\n",
       "    .dataframe tbody tr th {\n",
       "        vertical-align: top;\n",
       "    }\n",
       "\n",
       "    .dataframe thead th {\n",
       "        text-align: right;\n",
       "    }\n",
       "</style>\n",
       "<table border=\"1\" class=\"dataframe\">\n",
       "  <thead>\n",
       "    <tr style=\"text-align: right;\">\n",
       "      <th></th>\n",
       "      <th>Montecarlo crudo</th>\n",
       "      <th>% Error Relativo 1</th>\n",
       "      <th>Muestreo Estratificado</th>\n",
       "      <th>% Error Relativo 2</th>\n",
       "    </tr>\n",
       "    <tr>\n",
       "      <th>Cant Terminos</th>\n",
       "      <th></th>\n",
       "      <th></th>\n",
       "      <th></th>\n",
       "      <th></th>\n",
       "    </tr>\n",
       "  </thead>\n",
       "  <tbody>\n",
       "    <tr>\n",
       "      <th>10</th>\n",
       "      <td>0.169997</td>\n",
       "      <td>49.000875</td>\n",
       "      <td>0.337445</td>\n",
       "      <td>1.233589e+00</td>\n",
       "    </tr>\n",
       "    <tr>\n",
       "      <th>100</th>\n",
       "      <td>0.350282</td>\n",
       "      <td>5.084670</td>\n",
       "      <td>0.333249</td>\n",
       "      <td>2.526583e-02</td>\n",
       "    </tr>\n",
       "    <tr>\n",
       "      <th>1000</th>\n",
       "      <td>0.329100</td>\n",
       "      <td>1.269964</td>\n",
       "      <td>0.333327</td>\n",
       "      <td>1.832269e-03</td>\n",
       "    </tr>\n",
       "    <tr>\n",
       "      <th>10000</th>\n",
       "      <td>0.331665</td>\n",
       "      <td>0.500376</td>\n",
       "      <td>0.333334</td>\n",
       "      <td>9.192905e-05</td>\n",
       "    </tr>\n",
       "    <tr>\n",
       "      <th>100000</th>\n",
       "      <td>0.333210</td>\n",
       "      <td>0.037013</td>\n",
       "      <td>0.333333</td>\n",
       "      <td>3.887221e-06</td>\n",
       "    </tr>\n",
       "    <tr>\n",
       "      <th>1000000</th>\n",
       "      <td>0.333159</td>\n",
       "      <td>0.052179</td>\n",
       "      <td>0.333333</td>\n",
       "      <td>2.248948e-07</td>\n",
       "    </tr>\n",
       "    <tr>\n",
       "      <th>10000000</th>\n",
       "      <td>0.333524</td>\n",
       "      <td>0.057281</td>\n",
       "      <td>0.333333</td>\n",
       "      <td>1.144301e-09</td>\n",
       "    </tr>\n",
       "  </tbody>\n",
       "</table>\n",
       "</div>"
      ],
      "text/plain": [
       "               Montecarlo crudo  % Error Relativo 1  Muestreo Estratificado  \\\n",
       "Cant Terminos                                                                 \n",
       "10                     0.169997           49.000875                0.337445   \n",
       "100                    0.350282            5.084670                0.333249   \n",
       "1000                   0.329100            1.269964                0.333327   \n",
       "10000                  0.331665            0.500376                0.333334   \n",
       "100000                 0.333210            0.037013                0.333333   \n",
       "1000000                0.333159            0.052179                0.333333   \n",
       "10000000               0.333524            0.057281                0.333333   \n",
       "\n",
       "               % Error Relativo 2  \n",
       "Cant Terminos                      \n",
       "10                   1.233589e+00  \n",
       "100                  2.526583e-02  \n",
       "1000                 1.832269e-03  \n",
       "10000                9.192905e-05  \n",
       "100000               3.887221e-06  \n",
       "1000000              2.248948e-07  \n",
       "10000000             1.144301e-09  "
      ]
     },
     "execution_count": 5,
     "metadata": {},
     "output_type": "execute_result"
    }
   ],
   "source": [
    "# Crear data frame \n",
    "df = pd.DataFrame()\n",
    "df['Cant Terminos'] = N\n",
    "df.set_index('Cant Terminos', inplace = True)\n",
    "# datos montecarlo crudo\n",
    "df['Montecarlo crudo'] = integral\n",
    "df['% Error Relativo 1'] = np.abs(df['Montecarlo crudo'] - I)*100/I\n",
    "# datos metodo estratificado\n",
    "df['Muestreo Estratificado'] = integral_strat\n",
    "df['% Error Relativo 2'] = np.abs(df['Muestreo Estratificado'] - I)*100/I\n",
    "df"
   ]
  },
  {
   "cell_type": "markdown",
   "metadata": {},
   "source": [
    "### Solucion Doris"
   ]
  },
  {
   "cell_type": "code",
   "execution_count": 7,
   "metadata": {},
   "outputs": [
    {
     "data": {
      "text/plain": [
       "array([0.02080606, 0.10727627, 0.23463438, 0.37801087, 0.42380092,\n",
       "       0.54064303, 0.60279768, 0.73414183, 0.85002667, 0.939441  ])"
      ]
     },
     "execution_count": 7,
     "metadata": {},
     "output_type": "execute_result"
    }
   ],
   "source": [
    "# respuesta 1\n",
    "def i_monte(f,a,b,U):\n",
    "    '''f = Función a integrar\n",
    "        a = límite inferior\n",
    "        b = límie superior\n",
    "        Muestra de números U~(ab)\n",
    "        '''\n",
    "    return (b-a)/len(U)*np.sum(f(U))\n",
    "\n",
    "def estratificado(B):\n",
    "    '''Esta función realiza el método de muestreo estratificado.\n",
    "        B: Cantidad de estratos.'''\n",
    "    U2 = np.random.rand(B)\n",
    "    i = np.arange(0,B)\n",
    "    v = (U2+i)/B\n",
    "    return v#m_estratificado\n",
    "estratificado(10)"
   ]
  },
  {
   "cell_type": "code",
   "execution_count": 8,
   "metadata": {},
   "outputs": [
    {
     "data": {
      "text/html": [
       "<div>\n",
       "<style scoped>\n",
       "    .dataframe tbody tr th:only-of-type {\n",
       "        vertical-align: middle;\n",
       "    }\n",
       "\n",
       "    .dataframe tbody tr th {\n",
       "        vertical-align: top;\n",
       "    }\n",
       "\n",
       "    .dataframe thead th {\n",
       "        text-align: right;\n",
       "    }\n",
       "</style>\n",
       "<table border=\"1\" class=\"dataframe\">\n",
       "  <thead>\n",
       "    <tr style=\"text-align: right;\">\n",
       "      <th></th>\n",
       "      <th>Montecarlo.Crudo</th>\n",
       "      <th>Error_relativo 1%</th>\n",
       "      <th>Muestreo.Estratificado</th>\n",
       "      <th>Error_relativo 2%</th>\n",
       "    </tr>\n",
       "    <tr>\n",
       "      <th>Cantidad_terminos</th>\n",
       "      <th></th>\n",
       "      <th></th>\n",
       "      <th></th>\n",
       "      <th></th>\n",
       "    </tr>\n",
       "  </thead>\n",
       "  <tbody>\n",
       "    <tr>\n",
       "      <th>10</th>\n",
       "      <td>0.269080</td>\n",
       "      <td>19.275926</td>\n",
       "      <td>0.305508</td>\n",
       "      <td>8.347687e+00</td>\n",
       "    </tr>\n",
       "    <tr>\n",
       "      <th>100</th>\n",
       "      <td>0.372235</td>\n",
       "      <td>11.670426</td>\n",
       "      <td>0.333296</td>\n",
       "      <td>1.113142e-02</td>\n",
       "    </tr>\n",
       "    <tr>\n",
       "      <th>1000</th>\n",
       "      <td>0.340739</td>\n",
       "      <td>2.221614</td>\n",
       "      <td>0.333311</td>\n",
       "      <td>6.552623e-03</td>\n",
       "    </tr>\n",
       "    <tr>\n",
       "      <th>10000</th>\n",
       "      <td>0.329311</td>\n",
       "      <td>1.206614</td>\n",
       "      <td>0.333333</td>\n",
       "      <td>8.527781e-05</td>\n",
       "    </tr>\n",
       "    <tr>\n",
       "      <th>100000</th>\n",
       "      <td>0.335400</td>\n",
       "      <td>0.619876</td>\n",
       "      <td>0.333333</td>\n",
       "      <td>5.280394e-06</td>\n",
       "    </tr>\n",
       "    <tr>\n",
       "      <th>1000000</th>\n",
       "      <td>0.333080</td>\n",
       "      <td>0.076021</td>\n",
       "      <td>0.333333</td>\n",
       "      <td>5.885903e-08</td>\n",
       "    </tr>\n",
       "    <tr>\n",
       "      <th>10000000</th>\n",
       "      <td>0.333109</td>\n",
       "      <td>0.067394</td>\n",
       "      <td>0.333333</td>\n",
       "      <td>3.629463e-09</td>\n",
       "    </tr>\n",
       "  </tbody>\n",
       "</table>\n",
       "</div>"
      ],
      "text/plain": [
       "                   Montecarlo.Crudo  Error_relativo 1%  \\\n",
       "Cantidad_terminos                                        \n",
       "10                         0.269080          19.275926   \n",
       "100                        0.372235          11.670426   \n",
       "1000                       0.340739           2.221614   \n",
       "10000                      0.329311           1.206614   \n",
       "100000                     0.335400           0.619876   \n",
       "1000000                    0.333080           0.076021   \n",
       "10000000                   0.333109           0.067394   \n",
       "\n",
       "                   Muestreo.Estratificado  Error_relativo 2%  \n",
       "Cantidad_terminos                                             \n",
       "10                               0.305508       8.347687e+00  \n",
       "100                              0.333296       1.113142e-02  \n",
       "1000                             0.333311       6.552623e-03  \n",
       "10000                            0.333333       8.527781e-05  \n",
       "100000                           0.333333       5.280394e-06  \n",
       "1000000                          0.333333       5.885903e-08  \n",
       "10000000                         0.333333       3.629463e-09  "
      ]
     },
     "execution_count": 8,
     "metadata": {},
     "output_type": "execute_result"
    }
   ],
   "source": [
    "# respuesta 2\n",
    "I = 1/3\n",
    "# intervalo de integración\n",
    "a = 0; b = 1\n",
    "\n",
    "# Cantidad de términos, en escala logarítmica\n",
    "N = np.logspace(1,7,7,dtype=int)\n",
    "\n",
    "\n",
    "\n",
    "# Números aleatorios dependiente de la cantidad de términos N\n",
    "ui = list(map(lambda N:np.random.uniform(a,b,N),N))\n",
    "\n",
    "# Calculamos la aproximación por montecarlo dependiendo de la cantidad de\n",
    "# términos que hayamos creado con ui\n",
    "I_m = list(map(lambda Y:i_monte(lambda x:x**2,a,b,Y),ui))\n",
    "\n",
    "\n",
    "## estratificado:\n",
    "ui_est = list(map(lambda x: estratificado(x), N))\n",
    "\n",
    "fx = lambda x: x**2\n",
    "I_m_est = list(map(lambda Y:fx(Y),ui_est))\n",
    "I_m_est = list(map(lambda Y:np.mean(Y),I_m_est))\n",
    "\n",
    "\n",
    "df = pd.DataFrame(index=N,columns=['Montecarlo.Crudo', 'Error_relativo 1%','Muestreo.Estratificado', 'Error_relativo 2%'], dtype='float')\n",
    "df.index.name = \"Cantidad_terminos\"\n",
    "df.loc[N,'Montecarlo.Crudo'] = I_m\n",
    "df.loc[N,\"Error_relativo 1%\"] = np.abs(df.loc[N,\"Montecarlo.Crudo\"]-I)*100/I\n",
    "df.loc[N,\"Muestreo.Estratificado\"] = I_m_est\n",
    "df.loc[N,\"Error_relativo 2%\"] = np.abs(df.loc[N,\"Muestreo.Estratificado\"]-I)*100/I\n",
    "df"
   ]
  },
  {
   "cell_type": "markdown",
   "metadata": {},
   "source": [
    "> **Ejercicio 2**\n",
    "> Consider the probability distribution whose probability density function is \n",
    "\n",
    "$$ f(x) =\n",
    "  \\begin{cases}\n",
    "    {\\frac{3}{2}x^2}       & \\text{if }-1\\leq x \\leq 1\\\\\n",
    "    0  &  otherwise\n",
    "  \\end{cases}\n",
    "$$\n",
    "\n",
    "The problem is to perform a simulated experiment, with the help of variance-reducing techniques, for estimating the mean of this distribution. To provide a standard of comparison, also derive the mean analytically.\n",
    "For each of the following cases, use the same 10 uniform random numbers (obtained as instructed at the beginning of the problems section) to generate random observations, and calculate the resulting estimate of the means.\n",
    "* a) Use the crude Monte Carlo technique.\n",
    "* b) Use the stratified sampling with three strata $0 \\leq F(x) \\leq 0.6 , \\ 0.6 \\leq F(x) \\leq 0.9\\ and \\ 0.9 < F(x) \\leq 1$ with 3, 3, and 4 observations respectively.\n",
    "* c) Use the method of complementary random numbers\n",
    "\n",
    "Además use el método de estratificación donde se divide en B estratos, visto la clase pasada y compare el resultado con los métodos anteriores cuando se toman $2,4,6,10$ estratos respectivamente, concluya.\n"
   ]
  },
  {
   "cell_type": "markdown",
   "metadata": {},
   "source": [
    "### Solucion Nicolas"
   ]
  },
  {
   "cell_type": "markdown",
   "metadata": {},
   "source": [
    "### Metodo analitico\n",
    "\n",
    "$$E[x] = \\int_{-1}^{1}x f(x) dx$$\n",
    "$$E[x] = \\int_{-1}^{1}\\frac{x^3}{2} dx$$\n",
    "$$E[x] = [\\frac{3x^4}{8}]_{-1}^{1}$$\n",
    "$$E[x] = 0$$\n"
   ]
  },
  {
   "cell_type": "markdown",
   "metadata": {},
   "source": [
    "Metodo de la transformada inversa \n",
    "$$f(x) = \\frac{3x^2}{2}$$\n",
    "$$F(X) = \\int_{-1}^{x} \\frac{3x^2}{2}dx$$\n",
    "$$F(x) = [\\frac{x^3}{2}]_{-1}^{x}$$\n",
    "$$F(X) = \\frac{x^3}{2} + \\frac{1}{2}$$\n",
    "\n",
    "$$U = \\frac{x^3}{2} + \\frac{1}{2} $$\n",
    "$$x = (2U-1)^{1/3}$$"
   ]
  },
  {
   "cell_type": "markdown",
   "metadata": {},
   "source": [
    "Inciso a) Montecarlo crudo"
   ]
  },
  {
   "cell_type": "code",
   "execution_count": 57,
   "metadata": {},
   "outputs": [
    {
     "name": "stdout",
     "output_type": "stream",
     "text": [
      "La media con montecarlo crudo es de 0.15697612916795828\n"
     ]
    }
   ],
   "source": [
    "# Montecarlo crudo\n",
    "np.random.seed(555)\n",
    "fx = lambda x: 3/2*x**2 if -1 <= x <= 1 else 0 # definir r \n",
    "Fx = lambda u: (2*(u-0.5))**(1/3) if u > 0.5 else -(2*(0.5-u))**(1/3)\n",
    "N = 10\n",
    "num = np.random.uniform(0, 1, N) # definir max\n",
    "var_aleatorias = [Fx(n) for n in num]\n",
    "print('La media con montecarlo crudo es de',np.array(var_aleatorias).mean())"
   ]
  },
  {
   "cell_type": "markdown",
   "metadata": {},
   "source": [
    "Inciso b) Estratificados en diferentes intervalos"
   ]
  },
  {
   "cell_type": "code",
   "execution_count": 59,
   "metadata": {},
   "outputs": [
    {
     "name": "stdout",
     "output_type": "stream",
     "text": [
      "La media con estratificados en diferentes intervalos es de 0.13236333378077703\n"
     ]
    }
   ],
   "source": [
    "np.random.seed(555)\n",
    "# Generar numeros aleatorios entre los intervalores correspondientes\n",
    "r1 = np.random.uniform(0,0.6,3)\n",
    "r2 = np.random.uniform(0.6,0.9,3)\n",
    "r3 = np.random.uniform(0.9,1,4)\n",
    "# Los almacenamos en una lista\n",
    "r  = [r1,r2,r3]\n",
    "# Cantidad de estratos\n",
    "m  = range(len(r)) \n",
    "# Pesos de cada estrato\n",
    "w  = [1/2,1,4]\n",
    "\n",
    "xi = [np.asarray([Fx(x) for x in ri]) for ri in r]\n",
    "xiwi = list(map(lambda x, wi: x/wi,xi, w)) \n",
    "muestras = np.concatenate(xiwi)\n",
    "print('La media con estratificados en diferentes intervalos es de', muestras.mean())"
   ]
  },
  {
   "cell_type": "markdown",
   "metadata": {},
   "source": [
    "Inciso c) Numeros complementarios"
   ]
  },
  {
   "cell_type": "code",
   "execution_count": 71,
   "metadata": {},
   "outputs": [
    {
     "name": "stdout",
     "output_type": "stream",
     "text": [
      "La media con numeros complementarios es de 0.0\n"
     ]
    }
   ],
   "source": [
    "np.random.seed(555)\n",
    "U = np.random.uniform(0,1,5)\n",
    "FU = np.array([Fx(u) for u in U])\n",
    "U2 = 1-U\n",
    "FU2 = np.array([Fx(u) for u in U2])\n",
    "\n",
    "print('La media con numeros complementarios es de', (FU.mean()+FU2.mean())/2)"
   ]
  },
  {
   "cell_type": "markdown",
   "metadata": {},
   "source": [
    "Estratificado uniforme con B = 2,4,6,10"
   ]
  },
  {
   "cell_type": "code",
   "execution_count": 72,
   "metadata": {},
   "outputs": [
    {
     "name": "stdout",
     "output_type": "stream",
     "text": [
      "La media con 2 estratos igualmente espaciados es de -0.14641883090847083\n",
      "La media con 4 estratos igualmente espaciados es de 0.03619349170473102\n",
      "La media con 6 estratos igualmente espaciados es de -0.008075897794051545\n",
      "La media con 10 estratos igualmente espaciados es de -0.004503997440142104\n"
     ]
    }
   ],
   "source": [
    "np.random.seed(555)\n",
    "# funcion muestreo estratificado\n",
    "def met_estratificado(N: 'Cantidad de estratos'):\n",
    "    '''Funcion que realiza el metodo de muestreo estratificado, retorna variales aleatorias estratificadas'''\n",
    "    B = N \n",
    "    U = np.random.rand(B)\n",
    "    i = np.arange(0,B)\n",
    "    strat = (U+i)/B\n",
    "    return strat\n",
    "\n",
    "B = np.array([2,4,6,10])\n",
    "var = [met_estratificado(Bi) for Bi in B]\n",
    "\n",
    "print('La media con 2 estratos igualmente espaciados es de', np.array([[Fx(xi) for xi in x] for x in var][0]).mean())\n",
    "print('La media con 4 estratos igualmente espaciados es de', np.array([[Fx(xi) for xi in x] for x in var][1]).mean())\n",
    "print('La media con 6 estratos igualmente espaciados es de', np.array([[Fx(xi) for xi in x] for x in var][2]).mean())\n",
    "print('La media con 10 estratos igualmente espaciados es de', np.array([[Fx(xi) for xi in x] for x in var][3]).mean())"
   ]
  },
  {
   "cell_type": "markdown",
   "metadata": {},
   "source": [
    "conclusion nicolas \n",
    "\n",
    "podemos notar que el hecho de usar algun metodo de reduccion de varianza en este caso si disminuyo el error relativo respecto al valor obtenido y al valor analitico de la integral, por lo cual se tuvo un buen resultado en cualquiera de los casos, cabe destacar que algunos se acercaron mas que otros, el que mas tendio a la media real fue el de numeros complementarios y el de numeros estatificados igualmente espaciados, que en mi opinion son los mas sencillos de acuerdo a codigo, por lo cual tal vez estos, pero entiendo el hecho de que es importante tener diferentes herramientas para disminuir la varianza"
   ]
  },
  {
   "cell_type": "markdown",
   "metadata": {},
   "source": [
    "### Solucion Doris"
   ]
  },
  {
   "cell_type": "code",
   "execution_count": 73,
   "metadata": {},
   "outputs": [
    {
     "data": {
      "image/png": "[encoded data removed]",
      "text/plain": [
       "<Figure size 432x288 with 1 Axes>"
      ]
     },
     "metadata": {
      "needs_background": "light"
     },
     "output_type": "display_data"
    }
   ],
   "source": [
    "f_x=lambda x: (3/2)*x**2 if x>=-1 and x<=1 else 0 \n",
    "\n",
    "f_1 = lambda x: x**(1/3) if x>=0 else -(-x)**(1/3) ## esto queeee o pqqq?\n",
    "f_2 = lambda u: f_1(2*u-1)\n",
    "\n",
    "N= 1000\n",
    "u1= np.random.uniform(0,1,N)\n",
    "\n",
    "f_u1= list(map(lambda x:f_2(x), u1))\n",
    "f_u1 = np.asarray(f_u1)\n",
    "y, x, p= plt.hist(f_u1, bins= 100, density=True)\n",
    "y2= list(map(lambda x: f_x(x), x))\n",
    "plt.plot(x,y2)\n",
    "plt.show()"
   ]
  },
  {
   "cell_type": "code",
   "execution_count": 74,
   "metadata": {},
   "outputs": [
    {
     "data": {
      "text/plain": [
       "-0.028167742250411548"
      ]
     },
     "execution_count": 74,
     "metadata": {},
     "output_type": "execute_result"
    }
   ],
   "source": [
    "crudo=f_u1.mean()\n",
    "crudo"
   ]
  },
  {
   "cell_type": "code",
   "execution_count": 75,
   "metadata": {},
   "outputs": [
    {
     "data": {
      "text/plain": [
       "-0.16346936901447945"
      ]
     },
     "execution_count": 75,
     "metadata": {},
     "output_type": "execute_result"
    }
   ],
   "source": [
    "np.random.seed(100)\n",
    "r1= np.random.uniform(0,.6,3)\n",
    "r2= np.random.uniform(.6,.9,3)\n",
    "r3= np.random.uniform(.9,1,4)\n",
    "r=[r1,r2,r3]\n",
    "\n",
    "r=[r1, r2, r3]\n",
    "w=(((3/10)/.6),((3/10)/.3),((4/10)/.1))\n",
    "\n",
    "f_u2= list(map(lambda x,a: np.asarray([f_2(i) for i in x])/a,r,w))\n",
    "estratificado=np.concatenate(f_u2).mean()\n",
    "estratificado"
   ]
  },
  {
   "cell_type": "code",
   "execution_count": 76,
   "metadata": {},
   "outputs": [
    {
     "data": {
      "text/plain": [
       "-0.6208146673829115"
      ]
     },
     "execution_count": 76,
     "metadata": {},
     "output_type": "execute_result"
    }
   ],
   "source": [
    "u1= np.random.rand(5)\n",
    "u2= 1-u1\n",
    "Uc=np.concatenate([u1,u2])\n",
    "\n",
    "f_u3= list(map(lambda u:np.asarray([f_2(u) for u in x]), Uc))\n",
    "f_u3 \n",
    "comp =np.mean(f_u3)\n",
    "comp"
   ]
  },
  {
   "cell_type": "code",
   "execution_count": 77,
   "metadata": {},
   "outputs": [
    {
     "name": "stdout",
     "output_type": "stream",
     "text": [
      "Estimacíon de la media para 2 estratos es 0.3276\n",
      "Estimacíon de la media para 4 estratos es -0.0029\n",
      "Estimacíon de la media para 6 estratos es -0.0312\n",
      "Estimacíon de la media para 10 estratos es -0.0184\n"
     ]
    }
   ],
   "source": [
    "f_xi = lambda u: -(-2*u+1)**(1/3) if u<.5 else (2*u-1)**(1/3)\n",
    "\n",
    "def estratif(B):\n",
    "    U2 = np.random.rand(B)\n",
    "    \n",
    "    i = np.arange(0,B)\n",
    "    \n",
    "    v = (U2+i)/B\n",
    "    \n",
    "    return v\n",
    "\n",
    "N_estratos = [2, 4, 6, 10]\n",
    "muestras = list(map(estratif,N_estratos))\n",
    "al = list(map(lambda m_i:list(map(lambda m:f_xi(m),m_i)),muestras))\n",
    "m_estra = list(map(lambda i:np.mean(i),al))\n",
    "\n",
    "resultados = list(map(lambda b,mean:print('Estimacíon de la media para %i estratos es %2.4f'%(b,mean)),N_estratos,m_estra))"
   ]
  }
 ],
 "metadata": {
  "kernelspec": {
   "display_name": "Python 3",
   "language": "python",
   "name": "python3"
  },
  "language_info": {
   "codemirror_mode": {
    "name": "ipython",
    "version": 3
   },
   "file_extension": ".py",
   "mimetype": "text/x-python",
   "name": "python",
   "nbconvert_exporter": "python",
   "pygments_lexer": "ipython3",
   "version": "3.8.3"
  }
 },
 "nbformat": 4,
 "nbformat_minor": 2
}
